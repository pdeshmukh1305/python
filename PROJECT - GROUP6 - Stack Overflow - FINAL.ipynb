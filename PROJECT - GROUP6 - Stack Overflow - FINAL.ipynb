{
 "cells": [
  {
   "cell_type": "markdown",
   "id": "f93ecd47",
   "metadata": {},
   "source": [
    "# Group 6 Project : Based on - Stack Overflow Developers Survey 2020"
   ]
  },
  {
   "cell_type": "code",
   "execution_count": 1,
   "id": "fdc2c0a0",
   "metadata": {},
   "outputs": [
    {
     "data": {
      "application/javascript": [
       "IPython.notebook.set_autosave_interval(1000)"
      ]
     },
     "metadata": {},
     "output_type": "display_data"
    },
    {
     "name": "stdout",
     "output_type": "stream",
     "text": [
      "Autosaving every 1 seconds\n"
     ]
    }
   ],
   "source": [
    "%autosave 1 "
   ]
  },
  {
   "cell_type": "code",
   "execution_count": 2,
   "id": "77cffafb",
   "metadata": {},
   "outputs": [],
   "source": [
    "# Import all the libraries\n",
    "\n",
    "import pandas as pd\n",
    "import numpy as np\n",
    "import seaborn as sns\n",
    "\n",
    "# print all the outputs in a cell\n",
    "\n",
    "from IPython.core.interactiveshell import InteractiveShell\n",
    "InteractiveShell.ast_node_interactivity = \"all\"\n",
    "\n",
    "import warnings\n",
    "warnings.filterwarnings(\"ignore\")"
   ]
  },
  {
   "cell_type": "code",
   "execution_count": 3,
   "id": "8bf2c9ee",
   "metadata": {},
   "outputs": [],
   "source": [
    "# Set values to 2 decimal places \n",
    "# Display all columns and max of 50 rows\n",
    "\n",
    "pd.set_option('display.float_format', lambda x: '%.2f' % x)\n",
    "pd.set_option('display.max_columns', None)\n",
    "pd.set_option('display.max_rows', 50)"
   ]
  },
  {
   "cell_type": "markdown",
   "id": "9fc10fcf",
   "metadata": {},
   "source": [
    "## Load the survey data into a DataFrame"
   ]
  },
  {
   "cell_type": "code",
   "execution_count": 4,
   "id": "74aaf933",
   "metadata": {},
   "outputs": [],
   "source": [
    "df  = pd.read_csv('survey_results_public.csv')  # To read a csv file into a DataFrame"
   ]
  },
  {
   "cell_type": "code",
   "execution_count": 5,
   "id": "68514a28",
   "metadata": {},
   "outputs": [
    {
     "data": {
      "text/html": [
       "<div>\n",
       "<style scoped>\n",
       "    .dataframe tbody tr th:only-of-type {\n",
       "        vertical-align: middle;\n",
       "    }\n",
       "\n",
       "    .dataframe tbody tr th {\n",
       "        vertical-align: top;\n",
       "    }\n",
       "\n",
       "    .dataframe thead th {\n",
       "        text-align: right;\n",
       "    }\n",
       "</style>\n",
       "<table border=\"1\" class=\"dataframe\">\n",
       "  <thead>\n",
       "    <tr style=\"text-align: right;\">\n",
       "      <th></th>\n",
       "      <th>Respondent</th>\n",
       "      <th>MainBranch</th>\n",
       "      <th>Hobbyist</th>\n",
       "      <th>Age</th>\n",
       "      <th>Age1stCode</th>\n",
       "      <th>CompFreq</th>\n",
       "      <th>CompTotal</th>\n",
       "      <th>ConvertedComp</th>\n",
       "      <th>Country</th>\n",
       "      <th>CurrencyDesc</th>\n",
       "      <th>CurrencySymbol</th>\n",
       "      <th>DatabaseDesireNextYear</th>\n",
       "      <th>DatabaseWorkedWith</th>\n",
       "      <th>DevType</th>\n",
       "      <th>EdLevel</th>\n",
       "      <th>Employment</th>\n",
       "      <th>Ethnicity</th>\n",
       "      <th>Gender</th>\n",
       "      <th>JobFactors</th>\n",
       "      <th>JobSat</th>\n",
       "      <th>JobSeek</th>\n",
       "      <th>LanguageDesireNextYear</th>\n",
       "      <th>LanguageWorkedWith</th>\n",
       "      <th>MiscTechDesireNextYear</th>\n",
       "      <th>MiscTechWorkedWith</th>\n",
       "      <th>NEWCollabToolsDesireNextYear</th>\n",
       "      <th>NEWCollabToolsWorkedWith</th>\n",
       "      <th>NEWDevOps</th>\n",
       "      <th>NEWDevOpsImpt</th>\n",
       "      <th>NEWEdImpt</th>\n",
       "      <th>NEWJobHunt</th>\n",
       "      <th>NEWJobHuntResearch</th>\n",
       "      <th>NEWLearn</th>\n",
       "      <th>NEWOffTopic</th>\n",
       "      <th>NEWOnboardGood</th>\n",
       "      <th>NEWOtherComms</th>\n",
       "      <th>NEWOvertime</th>\n",
       "      <th>NEWPurchaseResearch</th>\n",
       "      <th>NEWPurpleLink</th>\n",
       "      <th>NEWSOSites</th>\n",
       "      <th>NEWStuck</th>\n",
       "      <th>OpSys</th>\n",
       "      <th>OrgSize</th>\n",
       "      <th>PlatformDesireNextYear</th>\n",
       "      <th>PlatformWorkedWith</th>\n",
       "      <th>PurchaseWhat</th>\n",
       "      <th>Sexuality</th>\n",
       "      <th>SOAccount</th>\n",
       "      <th>SOComm</th>\n",
       "      <th>SOPartFreq</th>\n",
       "      <th>SOVisitFreq</th>\n",
       "      <th>SurveyEase</th>\n",
       "      <th>SurveyLength</th>\n",
       "      <th>Trans</th>\n",
       "      <th>UndergradMajor</th>\n",
       "      <th>WebframeDesireNextYear</th>\n",
       "      <th>WebframeWorkedWith</th>\n",
       "      <th>WelcomeChange</th>\n",
       "      <th>WorkWeekHrs</th>\n",
       "      <th>YearsCode</th>\n",
       "      <th>YearsCodePro</th>\n",
       "    </tr>\n",
       "  </thead>\n",
       "  <tbody>\n",
       "    <tr>\n",
       "      <th>0</th>\n",
       "      <td>1</td>\n",
       "      <td>I am a developer by profession</td>\n",
       "      <td>Yes</td>\n",
       "      <td>NaN</td>\n",
       "      <td>13</td>\n",
       "      <td>Monthly</td>\n",
       "      <td>NaN</td>\n",
       "      <td>NaN</td>\n",
       "      <td>Germany</td>\n",
       "      <td>European Euro</td>\n",
       "      <td>EUR</td>\n",
       "      <td>Microsoft SQL Server</td>\n",
       "      <td>Elasticsearch;Microsoft SQL Server;Oracle</td>\n",
       "      <td>Developer, desktop or enterprise applications;...</td>\n",
       "      <td>Master’s degree (M.A., M.S., M.Eng., MBA, etc.)</td>\n",
       "      <td>Independent contractor, freelancer, or self-em...</td>\n",
       "      <td>White or of European descent</td>\n",
       "      <td>Man</td>\n",
       "      <td>Languages, frameworks, and other technologies ...</td>\n",
       "      <td>Slightly satisfied</td>\n",
       "      <td>I am not interested in new job opportunities</td>\n",
       "      <td>C#;HTML/CSS;JavaScript</td>\n",
       "      <td>C#;HTML/CSS;JavaScript</td>\n",
       "      <td>.NET Core;Xamarin</td>\n",
       "      <td>.NET;.NET Core</td>\n",
       "      <td>Microsoft Teams;Microsoft Azure;Trello</td>\n",
       "      <td>Confluence;Jira;Slack;Microsoft Azure;Trello</td>\n",
       "      <td>No</td>\n",
       "      <td>Somewhat important</td>\n",
       "      <td>Fairly important</td>\n",
       "      <td>NaN</td>\n",
       "      <td>NaN</td>\n",
       "      <td>Once a year</td>\n",
       "      <td>Not sure</td>\n",
       "      <td>NaN</td>\n",
       "      <td>No</td>\n",
       "      <td>Often: 1-2 days per week or more</td>\n",
       "      <td>Start a free trial;Ask developers I know/work ...</td>\n",
       "      <td>Amused</td>\n",
       "      <td>Stack Overflow (public Q&amp;A for anyone who codes)</td>\n",
       "      <td>Visit Stack Overflow;Go for a walk or other ph...</td>\n",
       "      <td>Windows</td>\n",
       "      <td>2 to 9 employees</td>\n",
       "      <td>Android;iOS;Kubernetes;Microsoft Azure;Windows</td>\n",
       "      <td>Windows</td>\n",
       "      <td>NaN</td>\n",
       "      <td>Straight / Heterosexual</td>\n",
       "      <td>No</td>\n",
       "      <td>No, not at all</td>\n",
       "      <td>NaN</td>\n",
       "      <td>Multiple times per day</td>\n",
       "      <td>Neither easy nor difficult</td>\n",
       "      <td>Appropriate in length</td>\n",
       "      <td>No</td>\n",
       "      <td>Computer science, computer engineering, or sof...</td>\n",
       "      <td>ASP.NET Core</td>\n",
       "      <td>ASP.NET;ASP.NET Core</td>\n",
       "      <td>Just as welcome now as I felt last year</td>\n",
       "      <td>50.00</td>\n",
       "      <td>36</td>\n",
       "      <td>27</td>\n",
       "    </tr>\n",
       "    <tr>\n",
       "      <th>1</th>\n",
       "      <td>2</td>\n",
       "      <td>I am a developer by profession</td>\n",
       "      <td>No</td>\n",
       "      <td>NaN</td>\n",
       "      <td>19</td>\n",
       "      <td>NaN</td>\n",
       "      <td>NaN</td>\n",
       "      <td>NaN</td>\n",
       "      <td>United Kingdom</td>\n",
       "      <td>Pound sterling</td>\n",
       "      <td>GBP</td>\n",
       "      <td>NaN</td>\n",
       "      <td>NaN</td>\n",
       "      <td>Developer, full-stack;Developer, mobile</td>\n",
       "      <td>Bachelor’s degree (B.A., B.S., B.Eng., etc.)</td>\n",
       "      <td>Employed full-time</td>\n",
       "      <td>NaN</td>\n",
       "      <td>NaN</td>\n",
       "      <td>NaN</td>\n",
       "      <td>Very dissatisfied</td>\n",
       "      <td>I am not interested in new job opportunities</td>\n",
       "      <td>Python;Swift</td>\n",
       "      <td>JavaScript;Swift</td>\n",
       "      <td>React Native;TensorFlow;Unity 3D</td>\n",
       "      <td>React Native</td>\n",
       "      <td>Github;Slack</td>\n",
       "      <td>Confluence;Jira;Github;Gitlab;Slack</td>\n",
       "      <td>NaN</td>\n",
       "      <td>NaN</td>\n",
       "      <td>Fairly important</td>\n",
       "      <td>NaN</td>\n",
       "      <td>NaN</td>\n",
       "      <td>Once a year</td>\n",
       "      <td>Not sure</td>\n",
       "      <td>NaN</td>\n",
       "      <td>No</td>\n",
       "      <td>NaN</td>\n",
       "      <td>NaN</td>\n",
       "      <td>Amused</td>\n",
       "      <td>Stack Overflow (public Q&amp;A for anyone who code...</td>\n",
       "      <td>Visit Stack Overflow;Go for a walk or other ph...</td>\n",
       "      <td>MacOS</td>\n",
       "      <td>1,000 to 4,999 employees</td>\n",
       "      <td>iOS;Kubernetes;Linux;MacOS</td>\n",
       "      <td>iOS</td>\n",
       "      <td>I have little or no influence</td>\n",
       "      <td>NaN</td>\n",
       "      <td>Yes</td>\n",
       "      <td>Yes, definitely</td>\n",
       "      <td>Less than once per month or monthly</td>\n",
       "      <td>Multiple times per day</td>\n",
       "      <td>NaN</td>\n",
       "      <td>NaN</td>\n",
       "      <td>NaN</td>\n",
       "      <td>Computer science, computer engineering, or sof...</td>\n",
       "      <td>NaN</td>\n",
       "      <td>NaN</td>\n",
       "      <td>Somewhat more welcome now than last year</td>\n",
       "      <td>NaN</td>\n",
       "      <td>7</td>\n",
       "      <td>4</td>\n",
       "    </tr>\n",
       "    <tr>\n",
       "      <th>2</th>\n",
       "      <td>3</td>\n",
       "      <td>I code primarily as a hobby</td>\n",
       "      <td>Yes</td>\n",
       "      <td>NaN</td>\n",
       "      <td>15</td>\n",
       "      <td>NaN</td>\n",
       "      <td>NaN</td>\n",
       "      <td>NaN</td>\n",
       "      <td>Russian Federation</td>\n",
       "      <td>NaN</td>\n",
       "      <td>NaN</td>\n",
       "      <td>NaN</td>\n",
       "      <td>NaN</td>\n",
       "      <td>NaN</td>\n",
       "      <td>NaN</td>\n",
       "      <td>NaN</td>\n",
       "      <td>NaN</td>\n",
       "      <td>NaN</td>\n",
       "      <td>NaN</td>\n",
       "      <td>NaN</td>\n",
       "      <td>NaN</td>\n",
       "      <td>Objective-C;Python;Swift</td>\n",
       "      <td>Objective-C;Python;Swift</td>\n",
       "      <td>NaN</td>\n",
       "      <td>NaN</td>\n",
       "      <td>NaN</td>\n",
       "      <td>NaN</td>\n",
       "      <td>NaN</td>\n",
       "      <td>NaN</td>\n",
       "      <td>NaN</td>\n",
       "      <td>NaN</td>\n",
       "      <td>NaN</td>\n",
       "      <td>Once a decade</td>\n",
       "      <td>NaN</td>\n",
       "      <td>NaN</td>\n",
       "      <td>No</td>\n",
       "      <td>NaN</td>\n",
       "      <td>NaN</td>\n",
       "      <td>NaN</td>\n",
       "      <td>Stack Overflow (public Q&amp;A for anyone who codes)</td>\n",
       "      <td>NaN</td>\n",
       "      <td>Linux-based</td>\n",
       "      <td>NaN</td>\n",
       "      <td>NaN</td>\n",
       "      <td>NaN</td>\n",
       "      <td>NaN</td>\n",
       "      <td>NaN</td>\n",
       "      <td>Yes</td>\n",
       "      <td>Yes, somewhat</td>\n",
       "      <td>A few times per month or weekly</td>\n",
       "      <td>Daily or almost daily</td>\n",
       "      <td>Neither easy nor difficult</td>\n",
       "      <td>Appropriate in length</td>\n",
       "      <td>NaN</td>\n",
       "      <td>NaN</td>\n",
       "      <td>NaN</td>\n",
       "      <td>NaN</td>\n",
       "      <td>Somewhat more welcome now than last year</td>\n",
       "      <td>NaN</td>\n",
       "      <td>4</td>\n",
       "      <td>NaN</td>\n",
       "    </tr>\n",
       "    <tr>\n",
       "      <th>3</th>\n",
       "      <td>4</td>\n",
       "      <td>I am a developer by profession</td>\n",
       "      <td>Yes</td>\n",
       "      <td>25.00</td>\n",
       "      <td>18</td>\n",
       "      <td>NaN</td>\n",
       "      <td>NaN</td>\n",
       "      <td>NaN</td>\n",
       "      <td>Albania</td>\n",
       "      <td>Albanian lek</td>\n",
       "      <td>ALL</td>\n",
       "      <td>NaN</td>\n",
       "      <td>NaN</td>\n",
       "      <td>NaN</td>\n",
       "      <td>Master’s degree (M.A., M.S., M.Eng., MBA, etc.)</td>\n",
       "      <td>NaN</td>\n",
       "      <td>White or of European descent</td>\n",
       "      <td>Man</td>\n",
       "      <td>Flex time or a flexible schedule;Office enviro...</td>\n",
       "      <td>Slightly dissatisfied</td>\n",
       "      <td>I’m not actively looking, but I am open to new...</td>\n",
       "      <td>NaN</td>\n",
       "      <td>NaN</td>\n",
       "      <td>NaN</td>\n",
       "      <td>NaN</td>\n",
       "      <td>NaN</td>\n",
       "      <td>NaN</td>\n",
       "      <td>No</td>\n",
       "      <td>NaN</td>\n",
       "      <td>Not at all important/not necessary</td>\n",
       "      <td>Curious about other opportunities;Wanting to w...</td>\n",
       "      <td>NaN</td>\n",
       "      <td>Once a year</td>\n",
       "      <td>Not sure</td>\n",
       "      <td>Yes</td>\n",
       "      <td>Yes</td>\n",
       "      <td>Occasionally: 1-2 days per quarter but less th...</td>\n",
       "      <td>NaN</td>\n",
       "      <td>NaN</td>\n",
       "      <td>Stack Overflow (public Q&amp;A for anyone who code...</td>\n",
       "      <td>NaN</td>\n",
       "      <td>Linux-based</td>\n",
       "      <td>20 to 99 employees</td>\n",
       "      <td>NaN</td>\n",
       "      <td>NaN</td>\n",
       "      <td>I have a great deal of influence</td>\n",
       "      <td>Straight / Heterosexual</td>\n",
       "      <td>Yes</td>\n",
       "      <td>Yes, definitely</td>\n",
       "      <td>A few times per month or weekly</td>\n",
       "      <td>Multiple times per day</td>\n",
       "      <td>NaN</td>\n",
       "      <td>NaN</td>\n",
       "      <td>No</td>\n",
       "      <td>Computer science, computer engineering, or sof...</td>\n",
       "      <td>NaN</td>\n",
       "      <td>NaN</td>\n",
       "      <td>Somewhat less welcome now than last year</td>\n",
       "      <td>40.00</td>\n",
       "      <td>7</td>\n",
       "      <td>4</td>\n",
       "    </tr>\n",
       "    <tr>\n",
       "      <th>4</th>\n",
       "      <td>5</td>\n",
       "      <td>I used to be a developer by profession, but no...</td>\n",
       "      <td>Yes</td>\n",
       "      <td>31.00</td>\n",
       "      <td>16</td>\n",
       "      <td>NaN</td>\n",
       "      <td>NaN</td>\n",
       "      <td>NaN</td>\n",
       "      <td>United States</td>\n",
       "      <td>NaN</td>\n",
       "      <td>NaN</td>\n",
       "      <td>MySQL;PostgreSQL</td>\n",
       "      <td>MySQL;PostgreSQL;Redis;SQLite</td>\n",
       "      <td>NaN</td>\n",
       "      <td>Bachelor’s degree (B.A., B.S., B.Eng., etc.)</td>\n",
       "      <td>Employed full-time</td>\n",
       "      <td>White or of European descent</td>\n",
       "      <td>Man</td>\n",
       "      <td>NaN</td>\n",
       "      <td>NaN</td>\n",
       "      <td>NaN</td>\n",
       "      <td>Java;Ruby;Scala</td>\n",
       "      <td>HTML/CSS;Ruby;SQL</td>\n",
       "      <td>Ansible;Chef</td>\n",
       "      <td>Ansible</td>\n",
       "      <td>Github;Google Suite (Docs, Meet, etc)</td>\n",
       "      <td>Confluence;Jira;Github;Slack;Google Suite (Doc...</td>\n",
       "      <td>NaN</td>\n",
       "      <td>NaN</td>\n",
       "      <td>Very important</td>\n",
       "      <td>NaN</td>\n",
       "      <td>NaN</td>\n",
       "      <td>Once a year</td>\n",
       "      <td>No</td>\n",
       "      <td>NaN</td>\n",
       "      <td>Yes</td>\n",
       "      <td>NaN</td>\n",
       "      <td>Start a free trial;Ask developers I know/work ...</td>\n",
       "      <td>Hello, old friend</td>\n",
       "      <td>Stack Overflow (public Q&amp;A for anyone who code...</td>\n",
       "      <td>Call a coworker or friend;Visit Stack Overflow...</td>\n",
       "      <td>Windows</td>\n",
       "      <td>NaN</td>\n",
       "      <td>Docker;Google Cloud Platform;Heroku;Linux;Windows</td>\n",
       "      <td>AWS;Docker;Linux;MacOS;Windows</td>\n",
       "      <td>NaN</td>\n",
       "      <td>Straight / Heterosexual</td>\n",
       "      <td>Yes</td>\n",
       "      <td>Yes, somewhat</td>\n",
       "      <td>Less than once per month or monthly</td>\n",
       "      <td>A few times per month or weekly</td>\n",
       "      <td>Easy</td>\n",
       "      <td>Too short</td>\n",
       "      <td>No</td>\n",
       "      <td>Computer science, computer engineering, or sof...</td>\n",
       "      <td>Django;Ruby on Rails</td>\n",
       "      <td>Ruby on Rails</td>\n",
       "      <td>Just as welcome now as I felt last year</td>\n",
       "      <td>NaN</td>\n",
       "      <td>15</td>\n",
       "      <td>8</td>\n",
       "    </tr>\n",
       "  </tbody>\n",
       "</table>\n",
       "</div>"
      ],
      "text/plain": [
       "   Respondent                                         MainBranch Hobbyist  \\\n",
       "0           1                     I am a developer by profession      Yes   \n",
       "1           2                     I am a developer by profession       No   \n",
       "2           3                        I code primarily as a hobby      Yes   \n",
       "3           4                     I am a developer by profession      Yes   \n",
       "4           5  I used to be a developer by profession, but no...      Yes   \n",
       "\n",
       "    Age Age1stCode CompFreq  CompTotal  ConvertedComp             Country  \\\n",
       "0   NaN         13  Monthly        NaN            NaN             Germany   \n",
       "1   NaN         19      NaN        NaN            NaN      United Kingdom   \n",
       "2   NaN         15      NaN        NaN            NaN  Russian Federation   \n",
       "3 25.00         18      NaN        NaN            NaN             Albania   \n",
       "4 31.00         16      NaN        NaN            NaN       United States   \n",
       "\n",
       "     CurrencyDesc CurrencySymbol DatabaseDesireNextYear  \\\n",
       "0   European Euro            EUR   Microsoft SQL Server   \n",
       "1  Pound sterling            GBP                    NaN   \n",
       "2             NaN            NaN                    NaN   \n",
       "3    Albanian lek            ALL                    NaN   \n",
       "4             NaN            NaN       MySQL;PostgreSQL   \n",
       "\n",
       "                          DatabaseWorkedWith  \\\n",
       "0  Elasticsearch;Microsoft SQL Server;Oracle   \n",
       "1                                        NaN   \n",
       "2                                        NaN   \n",
       "3                                        NaN   \n",
       "4              MySQL;PostgreSQL;Redis;SQLite   \n",
       "\n",
       "                                             DevType  \\\n",
       "0  Developer, desktop or enterprise applications;...   \n",
       "1            Developer, full-stack;Developer, mobile   \n",
       "2                                                NaN   \n",
       "3                                                NaN   \n",
       "4                                                NaN   \n",
       "\n",
       "                                           EdLevel  \\\n",
       "0  Master’s degree (M.A., M.S., M.Eng., MBA, etc.)   \n",
       "1     Bachelor’s degree (B.A., B.S., B.Eng., etc.)   \n",
       "2                                              NaN   \n",
       "3  Master’s degree (M.A., M.S., M.Eng., MBA, etc.)   \n",
       "4     Bachelor’s degree (B.A., B.S., B.Eng., etc.)   \n",
       "\n",
       "                                          Employment  \\\n",
       "0  Independent contractor, freelancer, or self-em...   \n",
       "1                                 Employed full-time   \n",
       "2                                                NaN   \n",
       "3                                                NaN   \n",
       "4                                 Employed full-time   \n",
       "\n",
       "                      Ethnicity Gender  \\\n",
       "0  White or of European descent    Man   \n",
       "1                           NaN    NaN   \n",
       "2                           NaN    NaN   \n",
       "3  White or of European descent    Man   \n",
       "4  White or of European descent    Man   \n",
       "\n",
       "                                          JobFactors                 JobSat  \\\n",
       "0  Languages, frameworks, and other technologies ...     Slightly satisfied   \n",
       "1                                                NaN      Very dissatisfied   \n",
       "2                                                NaN                    NaN   \n",
       "3  Flex time or a flexible schedule;Office enviro...  Slightly dissatisfied   \n",
       "4                                                NaN                    NaN   \n",
       "\n",
       "                                             JobSeek  \\\n",
       "0       I am not interested in new job opportunities   \n",
       "1       I am not interested in new job opportunities   \n",
       "2                                                NaN   \n",
       "3  I’m not actively looking, but I am open to new...   \n",
       "4                                                NaN   \n",
       "\n",
       "     LanguageDesireNextYear        LanguageWorkedWith  \\\n",
       "0    C#;HTML/CSS;JavaScript    C#;HTML/CSS;JavaScript   \n",
       "1              Python;Swift          JavaScript;Swift   \n",
       "2  Objective-C;Python;Swift  Objective-C;Python;Swift   \n",
       "3                       NaN                       NaN   \n",
       "4           Java;Ruby;Scala         HTML/CSS;Ruby;SQL   \n",
       "\n",
       "             MiscTechDesireNextYear MiscTechWorkedWith  \\\n",
       "0                 .NET Core;Xamarin     .NET;.NET Core   \n",
       "1  React Native;TensorFlow;Unity 3D       React Native   \n",
       "2                               NaN                NaN   \n",
       "3                               NaN                NaN   \n",
       "4                      Ansible;Chef            Ansible   \n",
       "\n",
       "             NEWCollabToolsDesireNextYear  \\\n",
       "0  Microsoft Teams;Microsoft Azure;Trello   \n",
       "1                            Github;Slack   \n",
       "2                                     NaN   \n",
       "3                                     NaN   \n",
       "4   Github;Google Suite (Docs, Meet, etc)   \n",
       "\n",
       "                            NEWCollabToolsWorkedWith NEWDevOps  \\\n",
       "0       Confluence;Jira;Slack;Microsoft Azure;Trello        No   \n",
       "1                Confluence;Jira;Github;Gitlab;Slack       NaN   \n",
       "2                                                NaN       NaN   \n",
       "3                                                NaN        No   \n",
       "4  Confluence;Jira;Github;Slack;Google Suite (Doc...       NaN   \n",
       "\n",
       "        NEWDevOpsImpt                           NEWEdImpt  \\\n",
       "0  Somewhat important                    Fairly important   \n",
       "1                 NaN                    Fairly important   \n",
       "2                 NaN                                 NaN   \n",
       "3                 NaN  Not at all important/not necessary   \n",
       "4                 NaN                      Very important   \n",
       "\n",
       "                                          NEWJobHunt NEWJobHuntResearch  \\\n",
       "0                                                NaN                NaN   \n",
       "1                                                NaN                NaN   \n",
       "2                                                NaN                NaN   \n",
       "3  Curious about other opportunities;Wanting to w...                NaN   \n",
       "4                                                NaN                NaN   \n",
       "\n",
       "        NEWLearn NEWOffTopic NEWOnboardGood NEWOtherComms  \\\n",
       "0    Once a year    Not sure            NaN            No   \n",
       "1    Once a year    Not sure            NaN            No   \n",
       "2  Once a decade         NaN            NaN            No   \n",
       "3    Once a year    Not sure            Yes           Yes   \n",
       "4    Once a year          No            NaN           Yes   \n",
       "\n",
       "                                         NEWOvertime  \\\n",
       "0                   Often: 1-2 days per week or more   \n",
       "1                                                NaN   \n",
       "2                                                NaN   \n",
       "3  Occasionally: 1-2 days per quarter but less th...   \n",
       "4                                                NaN   \n",
       "\n",
       "                                 NEWPurchaseResearch      NEWPurpleLink  \\\n",
       "0  Start a free trial;Ask developers I know/work ...             Amused   \n",
       "1                                                NaN             Amused   \n",
       "2                                                NaN                NaN   \n",
       "3                                                NaN                NaN   \n",
       "4  Start a free trial;Ask developers I know/work ...  Hello, old friend   \n",
       "\n",
       "                                          NEWSOSites  \\\n",
       "0   Stack Overflow (public Q&A for anyone who codes)   \n",
       "1  Stack Overflow (public Q&A for anyone who code...   \n",
       "2   Stack Overflow (public Q&A for anyone who codes)   \n",
       "3  Stack Overflow (public Q&A for anyone who code...   \n",
       "4  Stack Overflow (public Q&A for anyone who code...   \n",
       "\n",
       "                                            NEWStuck        OpSys  \\\n",
       "0  Visit Stack Overflow;Go for a walk or other ph...      Windows   \n",
       "1  Visit Stack Overflow;Go for a walk or other ph...        MacOS   \n",
       "2                                                NaN  Linux-based   \n",
       "3                                                NaN  Linux-based   \n",
       "4  Call a coworker or friend;Visit Stack Overflow...      Windows   \n",
       "\n",
       "                    OrgSize  \\\n",
       "0          2 to 9 employees   \n",
       "1  1,000 to 4,999 employees   \n",
       "2                       NaN   \n",
       "3        20 to 99 employees   \n",
       "4                       NaN   \n",
       "\n",
       "                              PlatformDesireNextYear  \\\n",
       "0     Android;iOS;Kubernetes;Microsoft Azure;Windows   \n",
       "1                         iOS;Kubernetes;Linux;MacOS   \n",
       "2                                                NaN   \n",
       "3                                                NaN   \n",
       "4  Docker;Google Cloud Platform;Heroku;Linux;Windows   \n",
       "\n",
       "               PlatformWorkedWith                      PurchaseWhat  \\\n",
       "0                         Windows                               NaN   \n",
       "1                             iOS     I have little or no influence   \n",
       "2                             NaN                               NaN   \n",
       "3                             NaN  I have a great deal of influence   \n",
       "4  AWS;Docker;Linux;MacOS;Windows                               NaN   \n",
       "\n",
       "                 Sexuality SOAccount           SOComm  \\\n",
       "0  Straight / Heterosexual        No   No, not at all   \n",
       "1                      NaN       Yes  Yes, definitely   \n",
       "2                      NaN       Yes    Yes, somewhat   \n",
       "3  Straight / Heterosexual       Yes  Yes, definitely   \n",
       "4  Straight / Heterosexual       Yes    Yes, somewhat   \n",
       "\n",
       "                            SOPartFreq                      SOVisitFreq  \\\n",
       "0                                  NaN           Multiple times per day   \n",
       "1  Less than once per month or monthly           Multiple times per day   \n",
       "2      A few times per month or weekly            Daily or almost daily   \n",
       "3      A few times per month or weekly           Multiple times per day   \n",
       "4  Less than once per month or monthly  A few times per month or weekly   \n",
       "\n",
       "                   SurveyEase           SurveyLength Trans  \\\n",
       "0  Neither easy nor difficult  Appropriate in length    No   \n",
       "1                         NaN                    NaN   NaN   \n",
       "2  Neither easy nor difficult  Appropriate in length   NaN   \n",
       "3                         NaN                    NaN    No   \n",
       "4                        Easy              Too short    No   \n",
       "\n",
       "                                      UndergradMajor WebframeDesireNextYear  \\\n",
       "0  Computer science, computer engineering, or sof...           ASP.NET Core   \n",
       "1  Computer science, computer engineering, or sof...                    NaN   \n",
       "2                                                NaN                    NaN   \n",
       "3  Computer science, computer engineering, or sof...                    NaN   \n",
       "4  Computer science, computer engineering, or sof...   Django;Ruby on Rails   \n",
       "\n",
       "     WebframeWorkedWith                             WelcomeChange  \\\n",
       "0  ASP.NET;ASP.NET Core   Just as welcome now as I felt last year   \n",
       "1                   NaN  Somewhat more welcome now than last year   \n",
       "2                   NaN  Somewhat more welcome now than last year   \n",
       "3                   NaN  Somewhat less welcome now than last year   \n",
       "4         Ruby on Rails   Just as welcome now as I felt last year   \n",
       "\n",
       "   WorkWeekHrs YearsCode YearsCodePro  \n",
       "0        50.00        36           27  \n",
       "1          NaN         7            4  \n",
       "2          NaN         4          NaN  \n",
       "3        40.00         7            4  \n",
       "4          NaN        15            8  "
      ]
     },
     "execution_count": 5,
     "metadata": {},
     "output_type": "execute_result"
    }
   ],
   "source": [
    "df.head()"
   ]
  },
  {
   "cell_type": "markdown",
   "id": "c92d31b8",
   "metadata": {},
   "source": [
    "### Data Set description"
   ]
  },
  {
   "cell_type": "markdown",
   "id": "0af1440d",
   "metadata": {},
   "source": [
    "The data set is from https://www.kaggle.com/aitzaz/stack-overflow-developer-survey-2020 \n",
    "\n",
    "With nearly 65,000 responses fielded from over 180 countries and dependent territories, this dataset is from a 2020 Annual Developer Survey from Stack Overflow which examines all aspects of the developer experience from career satisfaction and job search to education and opinions on open-source software.\n",
    "\n",
    "The data set contains one row for every developer's response who took the survey and the columns are described below."
   ]
  },
  {
   "cell_type": "markdown",
   "id": "4587fd6b",
   "metadata": {},
   "source": [
    "<ol>\n",
    "<li><b>Respondent</b>:\tRandomized respondent ID number (not in order of survey response time)\n",
    "\n",
    "<li><b>MainBranch</b>: Different types of Developers\n",
    "\n",
    "<li><b>Hobbyist</b>: Boolean to determine if a person codes as a hobby\n",
    "\n",
    "<li><b>Age</b>: Age of developer\n",
    "\n",
    "<li><b>Age1stCode</b>: Age at which a person writes the first line of code or program\n",
    "\n",
    "<li><b>CompFreq</b>: Compensation frequency\n",
    "\n",
    "<li><b>CompTotal</b>: Current total compensation (salary, bonuses, and perks, before taxes and deductions), in `CurrencySymbol`. \n",
    "\n",
    "<li><b>ConvertedComp</b>: Salary converted to annual USD salaries using the exchange rate on 2020-02-19, assuming 12 working months and 50 working weeks.\n",
    "\n",
    "<li><b>Country</b>: Country\n",
    "\n",
    "<li><b>CurrencyDesc</b>: Currency description\n",
    "\n",
    "<li><b>CurrencySymbol</b>: Currency symbol\n",
    "\n",
    "<li><b>DatabaseDesireNextYear</b>: Database environments a person has done extensive development work in over the past year, and want to work in over the next year \n",
    "\n",
    "<li><b>DatabaseWorkedWith</b>: Database environments a person has done extensive development work in over the past year, and want to work in over the next year \n",
    "\n",
    "<li><b>DevType</b>: Type of Developer\n",
    "\n",
    "<li><b>EdLevel</b>: Highest level of formal education completed\n",
    "\n",
    "<li><b>Employment</b>: Current employment status\n",
    "\n",
    "<li><b>Ethnicity</b>: Ethnicity\n",
    "\n",
    "<li><b>Gender</b>:\tGender\n",
    "\n",
    "<li><b>JobFactors</b>: Factors to decide between two jobs that offer the same compensation, benefits, and location \n",
    "\n",
    "<li><b>JobSat</b>:\tJob satisfaction for current job\n",
    "\n",
    "<li><b>JobSeek</b>: Current job-seeking status\n",
    "\n",
    "<li><b>LanguageDesireNextYear</b>: Programming, scripting, and markup languages that a person has done extensive development work in over the past year, and want to work in over the next year \n",
    "\n",
    "<li><b>LanguageWorkedWith</b>: Programming, scripting, and markup languages that a person has done extensive development work in over the past year, and want to work in over the next year \n",
    "\n",
    "<li><b>MiscTechDesireNextYear</b>:\tFrameworks, libraries, and tools  that a person has done extensive development work in over the past year, and want to work in over the next year \n",
    "\n",
    "<li><b>MiscTechWorkedWith</b>: Frameworks, libraries, and tools that a person has done extensive development work in over the past year, and want to work in over the next year \n",
    "\n",
    "<li><b>NEWCollabToolsDesireNextYear</b>: Collaboration tools that a person has done extensive development work in over the past year, and want to work in over the next year \n",
    "\n",
    "<li><b>NEWCollabToolsWorkedWith</b>: Which collaboration tools that a person has done extensive development work in over the past year, and want to work in over the next year \n",
    "\n",
    "<li><b>NEWDevOps</b>: Whether or not if a company has a dedicated DevOps person\n",
    "\n",
    "<li><b>NEWDevOpsImpt</b>: Scaling the important of practice of DevOps to software development\n",
    "\n",
    "<li><b>NEWEdImpt</b>: Scaling the important of a formal education, such as a university degree in computer science, to a person’s career\n",
    "\n",
    "<li><b>NEWJobHunt</b>: Factors that drives a person to look for a new job\n",
    "\n",
    "<li><b>NEWJobHuntResearch</b>: When job searching, research done about a company\n",
    "\n",
    "<li><b>NEWLearn</b>: Frequency of learning a new language or framework\n",
    "\n",
    "<li><b>NEWOffTopic</b>: Opinion on whether Stack Overflow should relax restrictions on what is considered off-topic\n",
    "\n",
    "<li><b>NEWOnboardGood</b>: Determine whether the company has a good onboarding process? (By onboarding, we mean the structured process of getting you settled in to your new role at a company)\n",
    "\n",
    "<li><b>NEWOtherComms</b>: Determine if a person is a part of developer communities\n",
    "\n",
    "<li><b>NEWOvertime</b>: Frequency of overtime or beyond the formal time expectation of the job\n",
    "\n",
    "<li><b>NEWPurchaseResearch</b>: When buying a new tool or software, how do you discover and research available solutions\n",
    "\n",
    "<li><b>NEWPurpleLink</b>: How the person feels upon searching for a coding solution online that they have already visited\n",
    "\n",
    "<li><b>NEWSOSites</b>: Stack Overflow sites that a person has visited\n",
    "\n",
    "<li><b>NEWStuck</b>: Steps a person follows when stuck on a problem\n",
    "\n",
    "<li><b>OpSys</b>: Primary operating system \n",
    "\n",
    "<li><b>OrgSize</b>: Approximate number of people employed by the company \n",
    "\n",
    "<li><b>PlatformDesireNextYear</b>:  Platforms that a person has done extensive development work in over the past year, and  want to work in over the next year\n",
    "\n",
    "<li><b>PlatformWorkedWith</b>: Platforms  that a person has done extensive development work in over the past year, and  want to work in over the next year\n",
    "\n",
    "<li><b>PurchaseWhat</b>: Level of influence a person has over new technology purchases at their organization\n",
    "\n",
    "<li><b>Sexuality</b>: Sexuality\n",
    "\n",
    "<li><b>SOAccount</b>: Whether or not a person has Stack Overflow account\n",
    "\n",
    "<li><b>SOComm</b>: Whether or not a person is a member of the Stack Overflow community\n",
    "\n",
    "<li><b>SOPartFreq</b>: Frequency of participation in Q&A on Stack Overflow\n",
    "\n",
    "<li><b>SOVisitFreq</b>: Frequency of visit on Stack Overflow\n",
    "\n",
    "<li><b>SurveyEase</b>: Level of ease of survey\n",
    "\n",
    "<li><b>SurveyLength</b>: What a person feels about the length of the survey\n",
    "\n",
    "<li><b>Trans</b>: Whether or not a person is a transgender\n",
    "\n",
    "<li><b>UndergradMajor</b>: A person’s primary field of study\n",
    "\n",
    "<li><b>WebframeDesireNextYear</b>: Frameworks a person has done extensive development work in over the past year, and want to work in over the next year\n",
    "\n",
    "<li><b>WebframeWorkedWith</b>: Frameworks a person has done extensive development work in over the past year, and want to work in over the next year\n",
    "\n",
    "<li><b>WelcomeChange</b>: Compared to last year, how welcome a person feels on Stack Overflow\n",
    "\n",
    "<li><b>WorkWeekHrs</b>: Average number of hours per week that a person works for \n",
    "\n",
    "<li><b>YearsCode</b>: Including any education, number of years that a person has coded in total\n",
    "\n",
    "<li><b>YearsCodePro</b>: NOT including education, number of years that a person has coded professionally   \n",
    "</ol>"
   ]
  },
  {
   "cell_type": "code",
   "execution_count": 6,
   "id": "c94d0a24",
   "metadata": {},
   "outputs": [
    {
     "data": {
      "text/plain": [
       "(64461, 61)"
      ]
     },
     "execution_count": 6,
     "metadata": {},
     "output_type": "execute_result"
    }
   ],
   "source": [
    "df.shape  # Tuple representing the dimension of DataFrame before cleaning"
   ]
  },
  {
   "cell_type": "markdown",
   "id": "c1486f4b",
   "metadata": {},
   "source": [
    "## Cleaning the Dataset:"
   ]
  },
  {
   "cell_type": "markdown",
   "id": "3a734dbc",
   "metadata": {},
   "source": [
    "#### Dropping #1 Column: Respondent as its just randomized respondent ID number"
   ]
  },
  {
   "cell_type": "code",
   "execution_count": 7,
   "id": "980a80a7",
   "metadata": {},
   "outputs": [],
   "source": [
    "df.drop(columns='Respondent',inplace=True)"
   ]
  },
  {
   "cell_type": "markdown",
   "id": "347c75c5",
   "metadata": {},
   "source": [
    "#### Replacing long description to shorter meaningful words in #2 Column: MainBranch "
   ]
  },
  {
   "cell_type": "code",
   "execution_count": 8,
   "id": "14a1c151",
   "metadata": {},
   "outputs": [],
   "source": [
    "df.MainBranch.replace(to_replace='I am a developer by profession', value= 'ProfessionalDeveloper', inplace=True)\n",
    "df.MainBranch.replace(to_replace='I am a student who is learning to code', value= 'StudentDeveloper', inplace=True)\n",
    "df.MainBranch.replace(to_replace='I am not primarily a developer, but I write code sometimes as part of my work', \\\n",
    "                         value= 'PartTimeDeveloper', inplace=True)\n",
    "df.MainBranch.replace(to_replace='I code primarily as a hobby', value= 'HobbyDeveloper', inplace=True)\n",
    "df.MainBranch.replace(to_replace='I used to be a developer by profession, but no longer am', \\\n",
    "                         value= 'PastProfDeveloper', inplace=True)"
   ]
  },
  {
   "cell_type": "markdown",
   "id": "35517e90",
   "metadata": {},
   "source": [
    "#### Replacing 'Yes' , 'No' with 1's , 0's in #3 Column: Hobbyist"
   ]
  },
  {
   "cell_type": "code",
   "execution_count": 9,
   "id": "0b82da8a",
   "metadata": {},
   "outputs": [],
   "source": [
    "df.Hobbyist.replace(to_replace='Yes', value=1, inplace=True)"
   ]
  },
  {
   "cell_type": "code",
   "execution_count": 10,
   "id": "9e2008ab",
   "metadata": {},
   "outputs": [],
   "source": [
    "df.Hobbyist.replace(to_replace='No', value=0, inplace=True)"
   ]
  },
  {
   "cell_type": "markdown",
   "id": "b04fa8d9",
   "metadata": {},
   "source": [
    "#### Replacing strings with numbers in #6 Column: CompFreq"
   ]
  },
  {
   "cell_type": "code",
   "execution_count": 11,
   "id": "6490ca9f",
   "metadata": {},
   "outputs": [],
   "source": [
    "# To find Annualized Pay: Week = 52, Month = 12, Year = 1\n",
    "\n",
    "df.CompFreq.replace(to_replace='Monthly', value=12, inplace=True)\n",
    "df.CompFreq.replace(to_replace='Yearly', value=1, inplace=True)\n",
    "df.CompFreq.replace(to_replace='Weekly', value=52, inplace=True)"
   ]
  },
  {
   "cell_type": "markdown",
   "id": "a5617349",
   "metadata": {},
   "source": [
    "#### Renaming #7 Column: 'ConvertedComp' to 'AnnualPay' as its makes more sense  and dropping 'CompTotal' "
   ]
  },
  {
   "cell_type": "code",
   "execution_count": 12,
   "id": "16c0ce22",
   "metadata": {},
   "outputs": [],
   "source": [
    "# The amount captured here is according to the pay frequency (Weekly, Monthly, Yearly)\n",
    "\n",
    "df.rename(columns={'ConvertedComp':'AnnualPay'}, inplace = True)\n",
    "df.drop(columns=['CompTotal'],inplace=True)"
   ]
  },
  {
   "cell_type": "markdown",
   "id": "9147c94f",
   "metadata": {},
   "source": [
    "#### Dropping  #10, #11: ConvertedComp, CurrencyDesc, CurrencySymbol"
   ]
  },
  {
   "cell_type": "code",
   "execution_count": 13,
   "id": "7675ea63",
   "metadata": {},
   "outputs": [],
   "source": [
    "df.drop(columns=['CurrencyDesc','CurrencySymbol'],inplace=True)"
   ]
  },
  {
   "cell_type": "markdown",
   "id": "604cce3a",
   "metadata": {},
   "source": [
    "### Using 2 functions to Clean Columns with each row containing multiple values separated by \" ; \":"
   ]
  },
  {
   "cell_type": "markdown",
   "id": "5e20dfd6",
   "metadata": {},
   "source": [
    "#### Function 'cleanup' : to fill 1's and 0's in dummy variables if row value contains the string same as dummy variable names"
   ]
  },
  {
   "cell_type": "code",
   "execution_count": 14,
   "id": "2a614532",
   "metadata": {},
   "outputs": [],
   "source": [
    "def cleanup(column_title,column_clean):\n",
    "    comaparer = column_title.split('_')[1]\n",
    "    df[column_title] = df[column_clean].str.contains(comaparer, case=False) + 0"
   ]
  },
  {
   "cell_type": "markdown",
   "id": "1c9f9dbb",
   "metadata": {},
   "source": [
    "#### Function 'clean_col' : to create dummy variables from the categorical columns\n",
    "\n",
    "Note: \n",
    "1. We cannot use pd.get_dummies here as the values are separated by: ';'\n",
    "2. We achieve this by splitting the Data into dummy variables using .split(';')"
   ]
  },
  {
   "cell_type": "code",
   "execution_count": 15,
   "id": "5d3d4231",
   "metadata": {},
   "outputs": [],
   "source": [
    "# Function cleans up Columns with data separated by \";\" and splits it into multiple columns containing Binary data \n",
    "# with prefix (abb) passed to the function\n",
    "\n",
    "def clean_col(column_name,abb):\n",
    "    \n",
    "    df[column_name].fillna('Unknown', inplace = True)    # Filling Nan with Unknown\n",
    "    \n",
    "    column_list = df[column_name].to_list()              # Splitting Column's data to a variable column_list\n",
    "    \n",
    "    final_list = []                                      # Declaring a list to append the new column names in final_list\n",
    "    \n",
    "    for item in column_list:                             # Loop through the datas in a column\n",
    "        \n",
    "        for item2 in item.split(';'):                    # Split the data separated by \";\"\n",
    "            \n",
    "            item2 = abb + item2                          # Adding the prefix to the new column\n",
    "            \n",
    "            if item2 not in final_list and item2 != abb+'Unknown': # Checking if the item is in the final_list and is 'Unknown'\n",
    "                \n",
    "                final_list.append(item2)                 # Append into the list\n",
    "                \n",
    "    for item in final_list:                              # Looping through new list of columns and call the function Cleanup\n",
    "        cleanup(item, column_name)                       # Cleanup function adds the new cleaned columns to the database df\n",
    "                                                         # Cleanup adds 1s and 0s if it matches column_title\n",
    "        \n",
    "    df.drop(columns = str(column_name), inplace = True)  # Drop the old Columns"
   ]
  },
  {
   "cell_type": "markdown",
   "id": "103c3569",
   "metadata": {},
   "source": [
    "#### Calling the clean_col functions for columns with data separated by \";\""
   ]
  },
  {
   "cell_type": "code",
   "execution_count": 16,
   "id": "d0b750c5",
   "metadata": {},
   "outputs": [],
   "source": [
    "# Two columns throws Regex error becuase of string C++\n",
    "# This error was taken care by applying Lambda Function on column to replace \"C++\" with \"Cplusplus\"\n",
    "\n",
    "df['LanguageDesireNextYear']= df.LanguageDesireNextYear.apply(lambda a: str(a).replace('++','plusplus'))\n",
    "df['LanguageWorkedWith']= df.LanguageWorkedWith.apply(lambda a: str(a).replace('++','plusplus'))"
   ]
  },
  {
   "cell_type": "code",
   "execution_count": 17,
   "id": "5dc76f3e",
   "metadata": {},
   "outputs": [],
   "source": [
    "clean_col('DatabaseDesireNextYear','DBNY_')           # Column 12"
   ]
  },
  {
   "cell_type": "code",
   "execution_count": 18,
   "id": "7de99f2e",
   "metadata": {},
   "outputs": [],
   "source": [
    "clean_col('DatabaseWorkedWith','DBWW_')               # Column 13"
   ]
  },
  {
   "cell_type": "code",
   "execution_count": 19,
   "id": "1a024f3f",
   "metadata": {},
   "outputs": [],
   "source": [
    "clean_col('DevType','DT_')                            # Column 14"
   ]
  },
  {
   "cell_type": "code",
   "execution_count": 20,
   "id": "4cc18d03",
   "metadata": {},
   "outputs": [],
   "source": [
    "clean_col('Ethnicity','Ethnicity_')                   # Column 17"
   ]
  },
  {
   "cell_type": "code",
   "execution_count": 21,
   "id": "76087a4c",
   "metadata": {},
   "outputs": [],
   "source": [
    "clean_col('Gender','Gender_')                         # Column 18"
   ]
  },
  {
   "cell_type": "code",
   "execution_count": 22,
   "id": "a8b8deb3",
   "metadata": {},
   "outputs": [],
   "source": [
    "clean_col('JobFactors','JobF_')                       # Column 19"
   ]
  },
  {
   "cell_type": "code",
   "execution_count": 23,
   "id": "e0c23495",
   "metadata": {},
   "outputs": [],
   "source": [
    "clean_col('LanguageDesireNextYear','LDNY_')           # Column 22"
   ]
  },
  {
   "cell_type": "code",
   "execution_count": 24,
   "id": "9d556186",
   "metadata": {},
   "outputs": [],
   "source": [
    "clean_col('LanguageWorkedWith','LWW_')                # Column 23"
   ]
  },
  {
   "cell_type": "code",
   "execution_count": 25,
   "id": "79ba7303",
   "metadata": {},
   "outputs": [],
   "source": [
    "clean_col('MiscTechDesireNextYear','MTNY_')           # Column 24"
   ]
  },
  {
   "cell_type": "code",
   "execution_count": 26,
   "id": "a20633fd",
   "metadata": {},
   "outputs": [],
   "source": [
    "clean_col('MiscTechWorkedWith','MTWW_')               # Column 25"
   ]
  },
  {
   "cell_type": "code",
   "execution_count": 27,
   "id": "054fdbc3",
   "metadata": {},
   "outputs": [],
   "source": [
    "clean_col('NEWCollabToolsDesireNextYear','CTNY_')     # Column 26"
   ]
  },
  {
   "cell_type": "code",
   "execution_count": 28,
   "id": "2e81cd95",
   "metadata": {},
   "outputs": [],
   "source": [
    "clean_col('NEWCollabToolsWorkedWith','CTWW_')         # Column 27"
   ]
  },
  {
   "cell_type": "code",
   "execution_count": 29,
   "id": "c1ad9939",
   "metadata": {},
   "outputs": [],
   "source": [
    "clean_col('NEWJobHunt','JobHunt_')                    # Column 31"
   ]
  },
  {
   "cell_type": "code",
   "execution_count": 30,
   "id": "ae528e41",
   "metadata": {},
   "outputs": [],
   "source": [
    "clean_col('NEWJobHuntResearch','JobHuntResearch_')    # Column 32"
   ]
  },
  {
   "cell_type": "code",
   "execution_count": 31,
   "id": "549f5e03",
   "metadata": {},
   "outputs": [],
   "source": [
    "clean_col('NEWPurchaseResearch','PR_')                # Column 38"
   ]
  },
  {
   "cell_type": "code",
   "execution_count": 32,
   "id": "8a979b30",
   "metadata": {},
   "outputs": [],
   "source": [
    "clean_col('NEWPurpleLink','MOOD_')                    # Column 39"
   ]
  },
  {
   "cell_type": "code",
   "execution_count": 33,
   "id": "121dac78",
   "metadata": {},
   "outputs": [],
   "source": [
    "clean_col('NEWSOSites','SO_')                         # Column 40"
   ]
  },
  {
   "cell_type": "code",
   "execution_count": 34,
   "id": "c882351a",
   "metadata": {},
   "outputs": [],
   "source": [
    "clean_col('NEWStuck','STUCK_')                        # Column 41"
   ]
  },
  {
   "cell_type": "code",
   "execution_count": 35,
   "id": "30232cb3",
   "metadata": {},
   "outputs": [],
   "source": [
    "clean_col('PlatformDesireNextYear','PLNY_')           # Column 44"
   ]
  },
  {
   "cell_type": "code",
   "execution_count": 36,
   "id": "1fe03d1e",
   "metadata": {},
   "outputs": [],
   "source": [
    "clean_col('PlatformWorkedWith','PLWW_')               # Column 45"
   ]
  },
  {
   "cell_type": "code",
   "execution_count": 37,
   "id": "951579ae",
   "metadata": {},
   "outputs": [],
   "source": [
    "clean_col('Sexuality','Sexuality_')                   # Column 47"
   ]
  },
  {
   "cell_type": "code",
   "execution_count": 38,
   "id": "99d54739",
   "metadata": {},
   "outputs": [],
   "source": [
    "clean_col('WebframeDesireNextYear','WFNY_')           # Column 56"
   ]
  },
  {
   "cell_type": "code",
   "execution_count": 39,
   "id": "9bdc0e1c",
   "metadata": {},
   "outputs": [],
   "source": [
    "clean_col('WebframeWorkedWith','WFWW_')               # Column 57"
   ]
  },
  {
   "cell_type": "markdown",
   "id": "3451599e",
   "metadata": {},
   "source": [
    "#### Converting Categorical columns to dummy variables using pd.get_dummies:"
   ]
  },
  {
   "cell_type": "code",
   "execution_count": 40,
   "id": "84f52a11",
   "metadata": {},
   "outputs": [],
   "source": [
    "# Getting dummy variables for Columns: 16, 21, 37, 42, 52, 53, 55\n",
    "\n",
    "df = pd.get_dummies(df, columns=['Employment', 'JobSeek', 'NEWOvertime', 'OpSys','SurveyEase', 'SurveyLength', \\\n",
    "                                 'UndergradMajor'])"
   ]
  },
  {
   "cell_type": "markdown",
   "id": "c5d3befd",
   "metadata": {},
   "source": [
    "#### Renaming dummy varaible columns for concise information:"
   ]
  },
  {
   "cell_type": "code",
   "execution_count": 41,
   "id": "e1699f84",
   "metadata": {},
   "outputs": [],
   "source": [
    "# Renaming dummy variables of Employment Column:\n",
    "df.rename(columns={'Employment_Employed full-time':'Employment_Full_Time',\\\n",
    "                   'Employment_Employed part-time':'Employment_Part_Time',\\\n",
    "                   'Employment_Independent contractor, freelancer, or self-employed':'Employment_Freelancer',\\\n",
    "                   'Employment_Not employed, and not looking for work':'Employment_Not_Interested',\\\n",
    "                   'Employment_Not employed, but looking for work':'Employment_Interested'},inplace=True)\n",
    "\n",
    "# Renaming dummy variables of JobSeek Column:\n",
    "df.rename(columns={'JobSeek_I am actively looking for a job':'JobSeek_Actively_Looking',\\\n",
    "                   'JobSeek_I am not interested in new job opportunities':'JobSeek_Not_Interested',\\\n",
    "                   'JobSeek_I’m not actively looking, but I am open to new opportunities':'JobSeek_Interested'},inplace=True)\n",
    "\n",
    "# Renaming dummy variables of NEWOvertime Column:\n",
    "df.rename(columns={'NEWOvertime_Never':'OverTime_Never',\\\n",
    "                   'NEWOvertime_Occasionally: 1-2 days per quarter but less than monthly':'OverTime_Ocassionally',\\\n",
    "                   'NEWOvertime_Often: 1-2 days per week or more':'OverTime_Often',\n",
    "                   'NEWOvertime_Rarely: 1-2 days per year or less':'OverTime_Rarely',\\\n",
    "                   'NEWOvertime_Sometimes: 1-2 days per month but less than weekly':'OverTime_Sometimes'}, inplace=True)\n",
    "\n",
    "# Renaming dummy variables of OrgSize Column:\n",
    "df.rename(columns={'OrgSize_1,000 to 4,999 employees':'OrgSize_1000-4999',\\\n",
    "                   'OrgSize_10 to 19 employees':'OrgSize_10-19',\\\n",
    "                   'OrgSize_10,000 or more employees':'OrgSize_10000+',\\\n",
    "                   'OrgSize_100 to 499 employees':'OrgSize_100-499',\\\n",
    "                   'OrgSize_2 to 9 employees':'OrgSize_2-9',\\\n",
    "                   'OrgSize_20 to 99 employees':'Orgsize_20-99',\\\n",
    "                   'OrgSize_5,000 to 9,999 employees':'OrgSize_5000-9999',\\\n",
    "                   'OrgSize_500 to 999 employees':'OrgSize_500-999',\\\n",
    "                   'OrgSize_Just me - I am a freelancer, sole proprietor, etc.':'OrgSize_1'}, inplace=True)\n",
    "\n",
    "# Renaming 1 dummy variable in SurveyEase Column:\n",
    "df.rename(columns={'SurveyEase_Neither easy nor difficult':'SurveyEase_Neutral'}, inplace = True)\n",
    "\n",
    "# Renaming 1 dummy variable in SurveyLength Column:\n",
    "df.rename(columns={'SurveyLength_Appropriate in length':'SurveyLength_Appropriate'}, inplace = True)\n",
    "\n",
    "# Renaming dummy variables in UndergradMajor Column:\n",
    "df.rename(columns={'UndergradMajor_A business discipline (such as accounting, finance, marketing, etc.)':\\\n",
    "                   'Undergrad_Business',\\\n",
    "                   'UndergradMajor_A health science (such as nursing, pharmacy, radiology, etc.)':\\\n",
    "                   'Undergrad_HealthScience',\\\n",
    "                   'UndergradMajor_A humanities discipline (such as literature, history, philosophy, etc.)':\\\n",
    "                   'Undergrad_Humanities',\\\n",
    "                   'UndergradMajor_A natural science (such as biology, chemistry, physics, etc.)':\\\n",
    "                   'Undergrad_NaturalScience',\\\n",
    "                   'UndergradMajor_A social science (such as anthropology, psychology, political science, etc.)':\\\n",
    "                   'Undergrad_SocialScience',\\\n",
    "                   'UndergradMajor_Another engineering discipline (such as civil, electrical, mechanical, etc.)':\\\n",
    "                   'Undergrad_OtherEngg',\\\n",
    "                   'UndergradMajor_Computer science, computer engineering, or software engineering':\\\n",
    "                   'Undergrad_ComputerScience',\\\n",
    "                   'UndergradMajor_Fine arts or performing arts (such as graphic design, music, studio art, etc.)':\\\n",
    "                   'Undergrad_FineArts',\\\n",
    "                   'UndergradMajor_I never declared a major':'Undergrad_NeverDeclared',\\\n",
    "                   'UndergradMajor_Information systems, information technology, or system administration':\\\n",
    "                   'Undergrad_InformationSys',\\\n",
    "                   'UndergradMajor_Mathematics or statistics':'Undergrad_MathStats',\\\n",
    "                   'UndergradMajor_Web development or web design':'Undergrad_WebDesign'}, inplace=True)"
   ]
  },
  {
   "cell_type": "markdown",
   "id": "abe9f927",
   "metadata": {},
   "source": [
    "#### Cleaning other columns by assigning values 0, 1, 2, 3 and so on using df.loc method or dropping irrelevant columns:"
   ]
  },
  {
   "cell_type": "markdown",
   "id": "1072f179",
   "metadata": {},
   "source": [
    "Column JobSat : -2 - Very dissatisfied,\n",
    "                -1 - Slightly dissatisfied,\n",
    "                0 - Neither satisfied nor dissatisfied,\n",
    "                1 - Slightly satisfied,\n",
    "                2 - Very satisfied"
   ]
  },
  {
   "cell_type": "code",
   "execution_count": 42,
   "id": "5f364f8b",
   "metadata": {},
   "outputs": [],
   "source": [
    "df.loc[df['JobSat'] == 'Very dissatisfied', 'JobSatisfaction'] = -2\n",
    "df.loc[df['JobSat'] == 'Slightly dissatisfied', 'JobSatisfaction'] = -1\n",
    "df.loc[df['JobSat'] == 'Neither satisfied nor dissatisfied', 'JobSatisfaction'] = 0\n",
    "df.loc[df['JobSat'] == 'Slightly satisfied', 'JobSatisfaction'] = 1\n",
    "df.loc[df['JobSat'] == 'Very satisfied', 'JobSatisfaction'] = 2"
   ]
  },
  {
   "cell_type": "code",
   "execution_count": 43,
   "id": "de727420",
   "metadata": {},
   "outputs": [],
   "source": [
    "df.drop(columns = 'JobSat', inplace = True)"
   ]
  },
  {
   "cell_type": "markdown",
   "id": "5367198d",
   "metadata": {},
   "source": [
    "Column NEWDevOps : 0 - No,\n",
    "                   0 - Not sure,\n",
    "                   1 - Yes"
   ]
  },
  {
   "cell_type": "code",
   "execution_count": 44,
   "id": "a6ed2ad5",
   "metadata": {},
   "outputs": [],
   "source": [
    "df.loc[df['NEWDevOps'] == 'No', 'Have_DevOps'] = 0\n",
    "df.loc[df['NEWDevOps'] == 'Not sure', 'Have_DevOps'] = 0\n",
    "df.loc[df['NEWDevOps'] == 'Yes', 'Have_DevOps'] = 1"
   ]
  },
  {
   "cell_type": "code",
   "execution_count": 45,
   "id": "7d65caaf",
   "metadata": {},
   "outputs": [],
   "source": [
    "df.drop(columns='NEWDevOps', inplace = True)"
   ]
  },
  {
   "cell_type": "markdown",
   "id": "b842436c",
   "metadata": {},
   "source": [
    "Column NEWDevOpsImpt : -2 - Not at all important,\n",
    "                       -1 - Not very important,\n",
    "                       0 - Neutral,\n",
    "                       1 - Somewhat important,\n",
    "                       2 - Extremely important"
   ]
  },
  {
   "cell_type": "code",
   "execution_count": 46,
   "id": "01a28cc9",
   "metadata": {},
   "outputs": [],
   "source": [
    "df.loc[df['NEWDevOpsImpt'] == 'Not at all important', 'DevOps_Important'] = -2\n",
    "df.loc[df['NEWDevOpsImpt'] == 'Not very important', 'DevOps_Important'] = -1\n",
    "df.loc[df['NEWDevOpsImpt'] == 'Neutral', 'DevOps_Important'] = 0\n",
    "df.loc[df['NEWDevOpsImpt'] == 'Somewhat important', 'DevOps_Important'] = 1\n",
    "df.loc[df['NEWDevOpsImpt'] == 'Extremely important', 'DevOps_Important'] = 2"
   ]
  },
  {
   "cell_type": "code",
   "execution_count": 47,
   "id": "1c7ef057",
   "metadata": {},
   "outputs": [],
   "source": [
    "df.drop(columns = 'NEWDevOpsImpt', inplace = True)"
   ]
  },
  {
   "cell_type": "markdown",
   "id": "eaa61b8a",
   "metadata": {},
   "source": [
    "Column NEWEdImpt : Renaming the column"
   ]
  },
  {
   "cell_type": "code",
   "execution_count": 48,
   "id": "0e7368df",
   "metadata": {},
   "outputs": [],
   "source": [
    "df.rename(columns={'NEWEdImpt':'FormalEdu_Important'}, inplace=True)"
   ]
  },
  {
   "cell_type": "markdown",
   "id": "5f79af22",
   "metadata": {},
   "source": [
    "Column NEWLearn : 0 - Once a decade,\n",
    "                  1 - Once every few years,\n",
    "                  2 - Once a year,\n",
    "                  3 - Every few months"
   ]
  },
  {
   "cell_type": "code",
   "execution_count": 49,
   "id": "9f96897d",
   "metadata": {},
   "outputs": [],
   "source": [
    "df.loc[df['NEWLearn'] == 'Every few months', 'Learning_Frequency'] = 3\n",
    "df.loc[df['NEWLearn'] == 'Once a year', 'Learning_Frequency'] = 2\n",
    "df.loc[df['NEWLearn'] == 'Once every few years', 'Learning_Frequency'] = 1\n",
    "df.loc[df['NEWLearn'] == 'Once a decade', 'Learning_Frequency'] = 0"
   ]
  },
  {
   "cell_type": "code",
   "execution_count": 50,
   "id": "a1e3a75e",
   "metadata": {},
   "outputs": [],
   "source": [
    "df.drop(columns = 'NEWLearn', inplace = True)"
   ]
  },
  {
   "cell_type": "markdown",
   "id": "4388e347",
   "metadata": {},
   "source": [
    "Column NEWOffTopic : The contents in this column is not relevant compared to others"
   ]
  },
  {
   "cell_type": "code",
   "execution_count": 51,
   "id": "340012fe",
   "metadata": {},
   "outputs": [],
   "source": [
    "df.drop(columns = 'NEWOffTopic', inplace = True)  "
   ]
  },
  {
   "cell_type": "markdown",
   "id": "a200fe3a",
   "metadata": {},
   "source": [
    "Column NEWOnboardGood: 0 - No,\n",
    "                       0 - Onboarding? What onboarding?,\n",
    "                       1 - Yes "
   ]
  },
  {
   "cell_type": "code",
   "execution_count": 52,
   "id": "4f27b6a7",
   "metadata": {},
   "outputs": [],
   "source": [
    "df.loc[df['NEWOnboardGood'] == 'No', 'Onboarding_Good'] = 0\n",
    "df.loc[df['NEWOnboardGood'] == 'Onboarding? What onboarding?', 'Onboarding_Good'] = 0\n",
    "df.loc[df['NEWOnboardGood'] == 'Yes', 'Onboarding_Good'] = 1"
   ]
  },
  {
   "cell_type": "code",
   "execution_count": 53,
   "id": "16b88a0c",
   "metadata": {},
   "outputs": [],
   "source": [
    "df.drop(columns='NEWOnboardGood', inplace = True)"
   ]
  },
  {
   "cell_type": "markdown",
   "id": "2ea5d0a3",
   "metadata": {},
   "source": [
    "Column NEWOtherComms : 0 - No, 1 - Yes"
   ]
  },
  {
   "cell_type": "code",
   "execution_count": 54,
   "id": "cb0acd7e",
   "metadata": {},
   "outputs": [],
   "source": [
    "df.loc[df['NEWOtherComms'] == 'No', 'Other_DevCommunity'] = 0\n",
    "df.loc[df['NEWOtherComms'] == 'Yes', 'Other_DevCommunity'] = 1"
   ]
  },
  {
   "cell_type": "code",
   "execution_count": 55,
   "id": "2541df43",
   "metadata": {},
   "outputs": [],
   "source": [
    "df.drop(columns='NEWOtherComms', inplace = True)"
   ]
  },
  {
   "cell_type": "markdown",
   "id": "6b55544f",
   "metadata": {},
   "source": [
    "Column PurchaseWhat dropped."
   ]
  },
  {
   "cell_type": "code",
   "execution_count": 56,
   "id": "11a275e2",
   "metadata": {},
   "outputs": [],
   "source": [
    "df.drop(columns = 'PurchaseWhat', inplace = True)"
   ]
  },
  {
   "cell_type": "markdown",
   "id": "13f631f9",
   "metadata": {},
   "source": [
    "Column SOAccount : 0 - No, 0.5 - Not sure/can't remember, 1- Yes"
   ]
  },
  {
   "cell_type": "code",
   "execution_count": 57,
   "id": "da0ca67e",
   "metadata": {},
   "outputs": [],
   "source": [
    "df.loc[df['SOAccount'] == 'No', 'SOAccount_Exist'] = 0\n",
    "df.loc[df['SOAccount'] == 'Not sure/can\\'t remember', 'SOAccount_Exist'] = 0\n",
    "df.loc[df['SOAccount'] == 'Yes', 'SOAccount_Exist'] = 1"
   ]
  },
  {
   "cell_type": "code",
   "execution_count": 58,
   "id": "05f318de",
   "metadata": {},
   "outputs": [],
   "source": [
    "df.drop(columns = 'SOAccount', inplace = True)"
   ]
  },
  {
   "cell_type": "markdown",
   "id": "7029fb0d",
   "metadata": {},
   "source": [
    "Column SOComm : 0 - No, not at all\n",
    "                1 - No, not really\n",
    "                2 - Not sure\n",
    "                3 - Neutral\n",
    "                4 - Yes, somewhat\n",
    "                5 - Yes, definitely"
   ]
  },
  {
   "cell_type": "code",
   "execution_count": 59,
   "id": "dcbf01c3",
   "metadata": {},
   "outputs": [],
   "source": [
    "df.loc[df['SOComm'] == 'No, not at all', 'SO_Community'] = 0\n",
    "df.loc[df['SOComm'] == 'No, not really', 'SO_Community'] = 1\n",
    "df.loc[df['SOComm'] == 'Not sure', 'SO_Community'] = 2\n",
    "df.loc[df['SOComm'] == 'Neutral', 'SO_Community'] = 3\n",
    "df.loc[df['SOComm'] == 'Yes, somewhat', 'SO_Community'] = 4\n",
    "df.loc[df['SOComm'] == 'Yes, definitely', 'SO_Community'] = 5"
   ]
  },
  {
   "cell_type": "code",
   "execution_count": 60,
   "id": "068f8c68",
   "metadata": {},
   "outputs": [],
   "source": [
    "df.drop(columns = 'SOComm', inplace = True)"
   ]
  },
  {
   "cell_type": "markdown",
   "id": "3dbd9816",
   "metadata": {},
   "source": [
    "Column SOPartFreq : 0 - I have never participated in Q&A on Stack Overflow,\n",
    "                    1 - Less than once per month or monthly,\n",
    "                    2 - A few times per month or weekly,\n",
    "                    3 - A few times per week,\n",
    "                    4 - Daily or almost daily, \n",
    "                    5 - Multiple times per day"
   ]
  },
  {
   "cell_type": "code",
   "execution_count": 61,
   "id": "a4dc0681",
   "metadata": {},
   "outputs": [],
   "source": [
    "df.loc[df['SOPartFreq'] == 'Less than once per month or monthly', 'SO_PartFreq'] = 1\n",
    "df.loc[df['SOPartFreq'] == 'A few times per month or weekly', 'SO_PartFreq'] = 2\n",
    "df.loc[df['SOPartFreq'] == 'Multiple times per day', 'SO_PartFreq'] = 5\n",
    "df.loc[df['SOPartFreq'] == 'I have never participated in Q&A on Stack Overflow', 'SO_PartFreq'] = 0\n",
    "df.loc[df['SOPartFreq'] == 'A few times per week', 'SO_PartFreq'] = 3\n",
    "df.loc[df['SOPartFreq'] == 'Daily or almost daily', 'SO_PartFreq'] = 4"
   ]
  },
  {
   "cell_type": "code",
   "execution_count": 62,
   "id": "aa93a165",
   "metadata": {},
   "outputs": [],
   "source": [
    "df.drop(columns = 'SOPartFreq', inplace = True)"
   ]
  },
  {
   "cell_type": "markdown",
   "id": "bfbea389",
   "metadata": {},
   "source": [
    "Column SOVisitFreq: 0 - I have never visited Stack Overflow (before today),\n",
    "                    1 - Less than once per month or monthly,\n",
    "                    2 - A few times per month or weekly,\n",
    "                    3 - A few times per week,\n",
    "                    4 - Daily or almost daily, \n",
    "                    5 - Multiple times per day"
   ]
  },
  {
   "cell_type": "code",
   "execution_count": 63,
   "id": "afcc01ca",
   "metadata": {},
   "outputs": [],
   "source": [
    "df.loc[df['SOVisitFreq'] == 'Less than once per month or monthly', 'SO_VisitFreq'] = 1\n",
    "df.loc[df['SOVisitFreq'] == 'A few times per month or weekly', 'SO_VisitFreq'] = 2\n",
    "df.loc[df['SOVisitFreq'] == 'Multiple times per day', 'SO_VisitFreq'] = 5\n",
    "df.loc[df['SOVisitFreq'] == 'I have never visited Stack Overflow (before today)', 'SO_VisitFreq'] = 0\n",
    "df.loc[df['SOVisitFreq'] == 'A few times per week', 'SO_VisitFreq'] = 3\n",
    "df.loc[df['SOVisitFreq'] == 'Daily or almost daily', 'SO_VisitFreq'] = 4"
   ]
  },
  {
   "cell_type": "code",
   "execution_count": 64,
   "id": "368c4fb2",
   "metadata": {},
   "outputs": [],
   "source": [
    "df.drop(columns = 'SOVisitFreq', inplace = True)"
   ]
  },
  {
   "cell_type": "markdown",
   "id": "a1a34b67",
   "metadata": {},
   "source": [
    "Column Trans : 0 - No, \n",
    "               1 - Yes"
   ]
  },
  {
   "cell_type": "code",
   "execution_count": 65,
   "id": "625ad780",
   "metadata": {},
   "outputs": [],
   "source": [
    "df.loc[df['Trans'] == 'Yes','Transgender'] = 1\n",
    "df.loc[df['Trans'] == 'No','Transgender'] = 0"
   ]
  },
  {
   "cell_type": "code",
   "execution_count": 66,
   "id": "6ca297f7",
   "metadata": {},
   "outputs": [],
   "source": [
    "df.drop(columns = 'Trans', inplace = True)"
   ]
  },
  {
   "cell_type": "markdown",
   "id": "1385f4d2",
   "metadata": {},
   "source": [
    "Column WelcomeChange : 0 - Not applicable - I did not use Stack Overflow last year,\n",
    "                       1 - A lot less welcome now than last year,\n",
    "                       2 - Somewhat less welcome now than last year,\n",
    "                       3 - Just as welcome now as I felt last year,\n",
    "                       4 - Somewhat more welcome now than last year,\n",
    "                       5 - A lot more welcome now than last year"
   ]
  },
  {
   "cell_type": "code",
   "execution_count": 67,
   "id": "ecf7cce1",
   "metadata": {},
   "outputs": [],
   "source": [
    "df.loc[df['WelcomeChange'] == 'Not applicable - I did not use Stack Overflow last year', 'Welcome_change'] = 0\n",
    "df.loc[df['WelcomeChange'] == 'A lot less welcome now than last year', 'Welcome_change'] = 1\n",
    "df.loc[df['WelcomeChange'] == 'Somewhat less welcome now than last year', 'Welcome_change'] = 2\n",
    "df.loc[df['WelcomeChange'] == 'Just as welcome now as I felt last year', 'Welcome_change'] = 3\n",
    "df.loc[df['WelcomeChange'] == 'Somewhat more welcome now than last year', 'Welcome_change'] = 4\n",
    "df.loc[df['WelcomeChange'] == 'A lot more welcome now than last year', 'Welcome_change'] = 5"
   ]
  },
  {
   "cell_type": "code",
   "execution_count": 68,
   "id": "ef1dbe77",
   "metadata": {},
   "outputs": [],
   "source": [
    "df.drop(columns = 'WelcomeChange', inplace = True)"
   ]
  },
  {
   "cell_type": "markdown",
   "id": "fed82e8c",
   "metadata": {},
   "source": [
    "Converting string data to integer data in Age1stCode Column:"
   ]
  },
  {
   "cell_type": "code",
   "execution_count": 69,
   "id": "39db1164",
   "metadata": {},
   "outputs": [],
   "source": [
    "df.Age1stCode.replace(to_replace='Younger than 5 years', value= 4, inplace=True)\n",
    "df.Age1stCode.replace(to_replace='Older than 85', value= 86, inplace=True)"
   ]
  },
  {
   "cell_type": "markdown",
   "id": "e37af1fb",
   "metadata": {},
   "source": [
    "Converting string data to integer data in YearsCode Column:"
   ]
  },
  {
   "cell_type": "code",
   "execution_count": 70,
   "id": "1f98d497",
   "metadata": {},
   "outputs": [],
   "source": [
    "df.YearsCode.replace(to_replace='Less than 1 year', value= 0, inplace=True)\n",
    "df.YearsCode.replace(to_replace='More than 50 years', value= 51, inplace=True) "
   ]
  },
  {
   "cell_type": "code",
   "execution_count": 71,
   "id": "42d0e24c",
   "metadata": {},
   "outputs": [],
   "source": [
    "df.rename(columns={'YearsCode':'YearsCoded'}, inplace = True)"
   ]
  },
  {
   "cell_type": "markdown",
   "id": "15a74eba",
   "metadata": {},
   "source": [
    "Converting string data to integer data in YearsCodePro Column:"
   ]
  },
  {
   "cell_type": "code",
   "execution_count": 72,
   "id": "72a0224f",
   "metadata": {},
   "outputs": [],
   "source": [
    "df.YearsCodePro.replace(to_replace='Less than 1 year', value= 0, inplace=True)\n",
    "df.YearsCodePro.replace(to_replace='More than 50 years', value= 51, inplace=True)"
   ]
  },
  {
   "cell_type": "code",
   "execution_count": 73,
   "id": "af9006e3",
   "metadata": {},
   "outputs": [],
   "source": [
    "df.rename(columns={'YearsCodePro':'YearsCodedProfessionally'}, inplace = True)"
   ]
  },
  {
   "cell_type": "markdown",
   "id": "54e42d63",
   "metadata": {},
   "source": [
    "Converting string data to integer data in EdLevel Column:"
   ]
  },
  {
   "cell_type": "code",
   "execution_count": 74,
   "id": "1fcfd188",
   "metadata": {},
   "outputs": [],
   "source": [
    "df.loc[df['EdLevel'] == 'I never completed any formal education','Education_level'] = 0\n",
    "df.loc[df['EdLevel'] == 'Some college/university study without earning a degree', 'Education_level'] = 1\n",
    "df.loc[df['EdLevel'] == 'Primary/elementary school','Education_level'] = 2\n",
    "df.loc[df['EdLevel'] == 'Secondary school (e.g. American high school, German Realschule or Gymnasium, etc.)',\\\n",
    "                              'Education_level'] = 3\n",
    "df.loc[df['EdLevel'] == 'Associate degree (A.A., A.S., etc.)','Education_level'] = 4\n",
    "df.loc[df['EdLevel'] == 'Bachelor’s degree (B.A., B.S., B.Eng., etc.)','Education_level'] = 5\n",
    "df.loc[df['EdLevel'] == 'Master’s degree (M.A., M.S., M.Eng., MBA, etc.)','Education_level'] = 6\n",
    "df.loc[df['EdLevel'] == 'Professional degree (JD, MD, etc.)','Education_level'] = 7\n",
    "df.loc[df['EdLevel'] == 'Other doctoral degree (Ph.D., Ed.D., etc.)','Education_level'] = 8"
   ]
  },
  {
   "cell_type": "code",
   "execution_count": 75,
   "id": "ac665949",
   "metadata": {},
   "outputs": [],
   "source": [
    "df.drop(columns = 'EdLevel', inplace = True)"
   ]
  },
  {
   "cell_type": "markdown",
   "id": "e6e03def",
   "metadata": {},
   "source": [
    "### Renaming Column names:"
   ]
  },
  {
   "cell_type": "code",
   "execution_count": 76,
   "id": "ec723045",
   "metadata": {},
   "outputs": [],
   "source": [
    "df.rename(columns = { 'DT_Developer, desktop or enterprise applications':'DT_Enterprise Application',\\\n",
    "                      'DT_Developer, full-stack':'DT_Full-Stack',\\\n",
    "                      'DT_Developer, mobile':'DT_Mobile',\\\n",
    "                      'DT_Developer, front-end':'DT_Front-End',\\\n",
    "                      'DT_Developer, back-end':'DT_Back-End',\\\n",
    "                      'DT_Developer, QA or test':'DT_QA/Test',\\\n",
    "                      'DT_Developer, game or graphics':'DT_Game/Graphics',\\\n",
    "                      'DT_Developer, embedded applications or devices':'DT_Embedded-Devices',\\\n",
    "                      'DT_Engineer, data':'DT_Data-Engineer',\\\n",
    "                      'DT_Data or business analyst':'DT_Data/Business-Analyst',\\\n",
    "                      'DT_Data scientist or machine learning specialist':'DT_Data/ML_Specialist',\\\n",
    "                      'DT_Marketing or sales professional':'DT_Marketing/Sales_Professional',\\\n",
    "                      'Ethnicity_White or of European descent':'Ethnicity_White/European_Decent',\\\n",
    "                      'Ethnicity_Hispanic or Latino/a/x':'Ethnicity_Hispanic/Latino',\\\n",
    "                      'Ethnicity_Black or of African descent':'Ethnicity_Black/African_Descent',\\\n",
    "                      'Ethnicity_Indigenous (such as Native American, Pacific Islander, or Indigenous Australian)':\\\n",
    "                      'Ethnicity_NativeAmerican/PacificIslander/Australian)',\\\n",
    "                      'Gender_Non-binary, genderqueer, or gender non-conforming':'Gender_Non-binary/Queer/Non-Conforming',\\\n",
    "                      'JobF_Languages, frameworks, and other technologies I’d be working with':'JobF_Lang/Framework/Tech',\\\n",
    "                      'JobF_Remote work options':'JobF_Remote-Work',\\\n",
    "                      'JobF_Opportunities for professional development':'JobF_ProfessionalDevelopment',\\\n",
    "                      'JobF_Flex time or a flexible schedule':'JobF_Flexible-Time',\\\n",
    "                      'JobF_Office environment or company culture':'JobF_Company-Culture',\\\n",
    "                      'JobF_Diversity of the company or organization':'JobF_Organization-Diversity',\\\n",
    "                      'JobF_How widely used or impactful my work output would be':'JobF_Work-Impact/Useful',\\\n",
    "                      'JobF_Industry that I’d be working in':'JobF_Industry',\\\n",
    "                      'JobF_Financial performance or funding status of the company or organization':\\\n",
    "                      'JobF_Org-Financial-Status',\n",
    "                      'JobF_Specific department or team I’d be working on':'JobF_Specific-Department/Team',\\\n",
    "                      'CTNY_Google Suite (Docs, Meet, etc)':'CTNY_Google-Suite/Docs/Meet',\\\n",
    "                      'CTNY_Stack Overflow for Teams':'CTNY_StackOverflow-Teams',\\\n",
    "                      'CTWW_Google Suite (Docs, Meet, etc)':'CTWW_Google-Suite/Docs/Meet',\\\n",
    "                      'JobHunt_Curious about other opportunities':'JobHunt_Curious_Other_Opportunities',\\\n",
    "                      'JobHunt_Wanting to work with new technologies':'JobHunt_WantWork_New_Technolgy',\\\n",
    "                      'JobHunt_Better compensation':'JobHunt_Better_Compensation',\\\n",
    "                      'JobHunt_Growth or leadership opportunities':'JobHunt_Growth/Leadership_Opportunities',\\\n",
    "                      'JobHunt_Trouble with my direct manager':'JobHunt_Trouble_w/Direct_Manager',\\\n",
    "                      'JobHunt_Trouble with leadership at my company':'JobHunt_Trouble_w/Leadership_Company',\\\n",
    "                      'JobHunt_Better work/life balance':'JobHunt_Better_work/life_balance',\\\n",
    "                      'JobHunt_Looking to relocate':'JobHunt_Looking_Relocate',\\\n",
    "                      'JobHunt_Having a bad day (or week or month) at work':'JobHunt_Bad_day/week/month_Work',\\\n",
    "                      'JobHunt_Wanting to share accomplishments with a wider network':\\\n",
    "                      'JobHunt_Share_Accomplishments_w/WideNetwork',\\\n",
    "                      'JobHunt_Trouble with my teammates':'JobHunt_Trouble_w/Teammates',\\\n",
    "                      'JobHuntResearch_Read company media, such as employee blogs or company culture videos':\\\n",
    "                      'JobHuntResearch_company_media/employee_blogs/company_culture_videos',\\\n",
    "                      'JobHuntResearch_Company reviews from third party sites (e.g. Glassdoor, Blind)':\\\n",
    "                      'JobHuntResearch_Company_reviews_3rd_party_Glassdoor_Blind',\\\n",
    "                      'JobHuntResearch_Publicly available financial information (e.g. Crunchbase)':\\\n",
    "                      'JobHuntResearch_Public_financial_Information_Crunchbase',\\\n",
    "                      'JobHuntResearch_Personal network - friends or family':'JobHuntResearch_Personal_Network/friends/family',\\\n",
    "                      'JobHuntResearch_Read other media like news articles, founder profiles, etc. about the company':\\\n",
    "                      'JobHuntResearch_Media/News_Articles/founder_profiles/about_company',\\\n",
    "                      'JobHuntResearch_Directly asking current or past employees at the company':\\\n",
    "                      'JobHuntResearch_Directly_current/past_employees',\\\n",
    "                      'PR_Ask developers I know/work with':'PR_Ask_developers_known/work_with',\\\n",
    "                      'PR_Visit developer communities like Stack Overflow':'PR_Visit_developer_communities_StackOverflow',\\\n",
    "                      'PR_Read ratings or reviews on third party sites like G2Crowd':'PR_rating/reviews_third_party_G2Crowd',\\\n",
    "                      'PR_Research companies that have advertised on sites I visit':\n",
    "                      'PR_Research_companies_advertised_sites_visited',\\\n",
    "                      'PR_Research companies that have emailed me':'PR_Research_companies_emailed_me',\\\n",
    "                      'SO_Stack Overflow (public Q&A for anyone who codes)':'SO_public_Q&A_anyone_who_codes)',\\\n",
    "                      'SO_Stack Exchange (public Q&A for a variety of topics)':'SO_public_Q&A_variety_topics',\\\n",
    "                      'SO_Stack Overflow Jobs (for job seekers)':'SO_Job_seekers',\\\n",
    "                      'SO_Stack Overflow for Teams (private Q&A for organizations)':'SO_private_Q&A_Org',\\\n",
    "                      'SO_Stack Overflow Talent (for hiring companies/recruiters)':'SO_Talent_hiring_companies/recruiters',\\\n",
    "                      'SO_Stack Overflow Advertising (for technology companies)':'SO_Advertising_technology_companies',\\\n",
    "                      'SO_I have never visited any of these sites':'SO_Never_Visited_sites',\\\n",
    "                      'STUCK_Visit Stack Overflow':'STUCK_Visit_Stack_Overflow',\\\n",
    "                      'STUCK_Go for a walk or other physical activity':'STUCK_Walk/physical_activity',\\\n",
    "                      'STUCK_Do other work and come back later':'STUCK_Other_work_come_back_later',\\\n",
    "                      'STUCK_Call a coworker or friend':'STUCK_Call_coworker/friend',\\\n",
    "                      'STUCK_Watch help / tutorial videos':'STUCK_Watch_help/tutorial_videos',\\\n",
    "                      'STUCK_Visit another developer community (please name):':'STUCK_Visit_Other_developer_community',\\\n",
    "                      'STUCK_Play games':'STUCK_Play_games'} ,inplace = True)"
   ]
  },
  {
   "cell_type": "code",
   "execution_count": 77,
   "id": "b996f7c4",
   "metadata": {},
   "outputs": [
    {
     "data": {
      "text/plain": [
       "(64461, 361)"
      ]
     },
     "execution_count": 77,
     "metadata": {},
     "output_type": "execute_result"
    }
   ],
   "source": [
    "df.shape"
   ]
  },
  {
   "cell_type": "markdown",
   "id": "ed425fd2",
   "metadata": {},
   "source": [
    "## Aggregating the dummy variables :"
   ]
  },
  {
   "cell_type": "code",
   "execution_count": 78,
   "id": "7cbb71e2",
   "metadata": {},
   "outputs": [],
   "source": [
    "df['Database_Num_Desired'] = df['DBNY_Microsoft SQL Server'] + df['DBNY_MySQL'] + df['DBNY_PostgreSQL'] +\\\n",
    "                             df['DBNY_MongoDB'] + df['DBNY_Firebase'] + df['DBNY_Cassandra'] +\\\n",
    "                             df['DBNY_Elasticsearch'] + df['DBNY_MariaDB'] + df['DBNY_Redis'] + \\\n",
    "                             df['DBNY_SQLite'] + df['DBNY_Oracle'] + df['DBNY_DynamoDB'] + df['DBNY_Couchbase']+\\\n",
    "                             df['DBNY_IBM DB2']"
   ]
  },
  {
   "cell_type": "code",
   "execution_count": 79,
   "id": "57a1de8b",
   "metadata": {},
   "outputs": [],
   "source": [
    "df.drop(columns=['DBNY_Microsoft SQL Server','DBNY_MySQL','DBNY_PostgreSQL','DBNY_MongoDB','DBNY_Firebase','DBNY_Cassandra'\\\n",
    "                ,'DBNY_Elasticsearch','DBNY_MariaDB','DBNY_Redis','DBNY_SQLite','DBNY_Oracle','DBNY_DynamoDB'\\\n",
    "                ,'DBNY_Couchbase','DBNY_IBM DB2'],inplace=True)"
   ]
  },
  {
   "cell_type": "code",
   "execution_count": 80,
   "id": "ff31d47b",
   "metadata": {},
   "outputs": [],
   "source": [
    "df['Database_Worked'] = df['DBWW_Microsoft SQL Server'] + df['DBWW_MySQL'] + df['DBWW_PostgreSQL'] +\\\n",
    "                        df['DBWW_MongoDB'] + df['DBWW_Firebase'] + df['DBWW_Cassandra'] +\\\n",
    "                        df['DBWW_Elasticsearch'] + df['DBWW_MariaDB'] + df['DBWW_Redis'] + \\\n",
    "                        df['DBWW_SQLite'] + df['DBWW_Oracle'] + df['DBWW_DynamoDB'] + df['DBWW_Couchbase']+\\\n",
    "                        df['DBWW_IBM DB2']"
   ]
  },
  {
   "cell_type": "code",
   "execution_count": 81,
   "id": "d34702de",
   "metadata": {},
   "outputs": [],
   "source": [
    "df.drop(columns=['DBWW_Microsoft SQL Server','DBWW_MySQL','DBWW_PostgreSQL','DBWW_MongoDB','DBWW_Firebase','DBWW_Cassandra'\\\n",
    "                ,'DBWW_Elasticsearch','DBWW_MariaDB','DBWW_Redis','DBWW_SQLite','DBWW_Oracle','DBWW_DynamoDB'\\\n",
    "                ,'DBWW_Couchbase','DBWW_IBM DB2'],inplace=True)"
   ]
  },
  {
   "cell_type": "code",
   "execution_count": 82,
   "id": "1094e93a",
   "metadata": {},
   "outputs": [],
   "source": [
    "df['N_Languages_Desired'] = df['LDNY_C#'] + df['LDNY_HTML/CSS'] + df['LDNY_JavaScript'] + df['LDNY_Python'] +\\\n",
    "                            df['LDNY_Swift'] + df['LDNY_Objective-C'] + df['LDNY_Java'] + df['LDNY_Ruby'] +\\\n",
    "                            df['LDNY_Scala'] + df['LDNY_PHP'] + df['LDNY_Rust'] + df['LDNY_R'] +\\\n",
    "                            df['LDNY_SQL'] + df['LDNY_Go'] + df['LDNY_TypeScript'] + df['LDNY_Assembly'] +\\\n",
    "                            df['LDNY_Bash/Shell/PowerShell'] + df['LDNY_C'] + df['LDNY_Haskell'] +\\\n",
    "                            df['LDNY_Perl'] + df['LDNY_Cplusplus'] + df['LDNY_Julia'] + df['LDNY_Kotlin'] +\\\n",
    "                            df['LDNY_Dart'] + df['LDNY_VBA']"
   ]
  },
  {
   "cell_type": "code",
   "execution_count": 83,
   "id": "06310e56",
   "metadata": {},
   "outputs": [],
   "source": [
    "df.drop(columns=['LDNY_C#', 'LDNY_HTML/CSS', 'LDNY_JavaScript', 'LDNY_Python', 'LDNY_Swift', 'LDNY_Objective-C', \\\n",
    "                 'LDNY_Java', 'LDNY_Ruby', 'LDNY_Scala', 'LDNY_PHP', 'LDNY_Rust', 'LDNY_R', 'LDNY_SQL', 'LDNY_Go', \\\n",
    "                 'LDNY_TypeScript', 'LDNY_Assembly', 'LDNY_Bash/Shell/PowerShell', 'LDNY_C', 'LDNY_Haskell', 'LDNY_Perl', \\\n",
    "                 'LDNY_Cplusplus', 'LDNY_Julia', 'LDNY_Kotlin', 'LDNY_Dart', 'LDNY_VBA', 'LDNY_nan'],inplace=True)"
   ]
  },
  {
   "cell_type": "code",
   "execution_count": 84,
   "id": "d9fc589e",
   "metadata": {},
   "outputs": [],
   "source": [
    "df['N_Language_Worked'] = df['LWW_C#'] + df['LWW_HTML/CSS'] + df['LWW_JavaScript'] + df['LWW_Python'] +\\\n",
    "                          df['LWW_Swift'] + df['LWW_Objective-C'] + df['LWW_Java'] + df['LWW_Ruby'] +\\\n",
    "                          df['LWW_Scala'] + df['LWW_PHP'] + df['LWW_Rust'] + df['LWW_R'] +\\\n",
    "                          df['LWW_SQL'] + df['LWW_Go'] + df['LWW_TypeScript'] + df['LWW_Assembly'] +\\\n",
    "                          df['LWW_Bash/Shell/PowerShell'] + df['LWW_C'] + df['LWW_Haskell'] +\\\n",
    "                          df['LWW_Perl'] + df['LWW_Cplusplus'] + df['LWW_Julia'] + df['LWW_Kotlin'] +\\\n",
    "                          df['LWW_Dart'] + df['LWW_VBA']"
   ]
  },
  {
   "cell_type": "code",
   "execution_count": 85,
   "id": "13c7f41e",
   "metadata": {},
   "outputs": [],
   "source": [
    "df.drop(columns=['LWW_C#', 'LWW_HTML/CSS', 'LWW_JavaScript', 'LWW_Python', 'LWW_Swift', 'LWW_Objective-C', \\\n",
    "                 'LWW_Java', 'LWW_Ruby', 'LWW_Scala', 'LWW_PHP', 'LWW_Rust', 'LWW_R', 'LWW_SQL', 'LWW_Go', \\\n",
    "                 'LWW_TypeScript', 'LWW_Assembly', 'LWW_Bash/Shell/PowerShell', 'LWW_C', 'LWW_Haskell', 'LWW_Perl', \\\n",
    "                 'LWW_Cplusplus', 'LWW_Julia', 'LWW_Kotlin', 'LWW_Dart', 'LWW_VBA', 'LWW_nan'],inplace=True)"
   ]
  },
  {
   "cell_type": "code",
   "execution_count": 86,
   "id": "5aa402e4",
   "metadata": {},
   "outputs": [],
   "source": [
    "df['N_Misc_Tech_Desired'] = df['MTNY_.NET Core'] + df['MTNY_Xamarin'] + df['MTNY_React Native'] +\\\n",
    "                            df['MTNY_TensorFlow'] + df['MTNY_Unity 3D'] + df['MTNY_Ansible'] +\\\n",
    "                            df['MTNY_Chef'] + df['MTNY_Pandas'] + df['MTNY_Node.js'] +df['MTNY_.NET'] +\\\n",
    "                            df['MTNY_Teraform'] + df['MTNY_Unreal Engine'] + df['MTNY_Flutter'] +\\\n",
    "                            df['MTNY_Keras'] + df['MTNY_Torch/PyTorch'] + df['MTNY_Apache Spark'] +\\\n",
    "                            df['MTNY_Hadoop'] + df['MTNY_Cordova'] + df['MTNY_Puppet'] "
   ]
  },
  {
   "cell_type": "code",
   "execution_count": 87,
   "id": "62fe8635",
   "metadata": {},
   "outputs": [],
   "source": [
    "df.drop(columns=['MTNY_.NET Core', 'MTNY_Xamarin', 'MTNY_React Native', 'MTNY_TensorFlow', 'MTNY_Unity 3D', 'MTNY_Ansible',\\\n",
    "                 'MTNY_Chef', 'MTNY_Pandas', 'MTNY_Node.js', 'MTNY_.NET', 'MTNY_Teraform', 'MTNY_Unreal Engine',\\\n",
    "                 'MTNY_Flutter', 'MTNY_Keras', 'MTNY_Torch/PyTorch', 'MTNY_Apache Spark', 'MTNY_Hadoop', 'MTNY_Cordova',\\\n",
    "                 'MTNY_Puppet'],inplace=True)"
   ]
  },
  {
   "cell_type": "code",
   "execution_count": 88,
   "id": "fdce255b",
   "metadata": {},
   "outputs": [],
   "source": [
    "df['N_Misc_Tech_Worked'] = df['MTWW_.NET Core'] + df['MTWW_Xamarin'] + df['MTWW_React Native'] +\\\n",
    "                           df['MTWW_TensorFlow'] + df['MTWW_Unity 3D'] + df['MTWW_Ansible'] +\\\n",
    "                           df['MTWW_Chef'] + df['MTWW_Pandas'] + df['MTWW_Node.js'] +df['MTWW_.NET'] +\\\n",
    "                           df['MTWW_Teraform'] + df['MTWW_Unreal Engine'] + df['MTWW_Flutter'] +\\\n",
    "                           df['MTWW_Keras'] + df['MTWW_Torch/PyTorch'] + df['MTWW_Apache Spark'] +\\\n",
    "                           df['MTWW_Hadoop'] + df['MTWW_Cordova'] + df['MTWW_Puppet']"
   ]
  },
  {
   "cell_type": "code",
   "execution_count": 89,
   "id": "26a507bc",
   "metadata": {},
   "outputs": [],
   "source": [
    "df.drop(columns=['MTWW_.NET Core', 'MTWW_Xamarin', 'MTWW_React Native', 'MTWW_TensorFlow', 'MTWW_Unity 3D', 'MTWW_Ansible',\\\n",
    "                 'MTWW_Chef', 'MTWW_Pandas', 'MTWW_Node.js', 'MTWW_.NET', 'MTWW_Teraform', 'MTWW_Unreal Engine',\\\n",
    "                 'MTWW_Flutter', 'MTWW_Keras', 'MTWW_Torch/PyTorch', 'MTWW_Apache Spark', 'MTWW_Hadoop', 'MTWW_Cordova',\\\n",
    "                 'MTWW_Puppet'],inplace=True)"
   ]
  },
  {
   "cell_type": "code",
   "execution_count": 90,
   "id": "52a6ad75",
   "metadata": {},
   "outputs": [],
   "source": [
    "# On further inspection, we realised that some values are too high and invalid for average hours of work done in an week. \n",
    "# Values above 100 hours are divided by 10 as they seem to have been a typographical error of decimal point\n",
    "\n",
    "df.WorkWeekHrs=df.WorkWeekHrs.apply(lambda x: x/10 if x>140 else x)"
   ]
  },
  {
   "cell_type": "code",
   "execution_count": 91,
   "id": "76099241",
   "metadata": {},
   "outputs": [],
   "source": [
    "df['N_Platform_Desired'] = df['PLNY_Android'] + df['PLNY_iOS'] + df['PLNY_Kubernetes'] + \\\n",
    "                           df['PLNY_Microsoft Azure'] + df['PLNY_Windows'] + df['PLNY_Linux'] + \\\n",
    "                           df['PLNY_MacOS'] + df['PLNY_Docker'] + df['PLNY_Google Cloud Platform'] + \\\n",
    "                           df['PLNY_Heroku'] + df['PLNY_Slack Apps and Integrations'] + df['PLNY_Raspberry Pi'] + \\\n",
    "                           df['PLNY_AWS'] + df['PLNY_WordPress'] + df['PLNY_Arduino'] + \\\n",
    "                           df['PLNY_IBM Cloud or Watson']"
   ]
  },
  {
   "cell_type": "code",
   "execution_count": 92,
   "id": "71621ef4",
   "metadata": {},
   "outputs": [],
   "source": [
    "df.drop(columns =['PLNY_Android', 'PLNY_iOS', 'PLNY_Kubernetes', 'PLNY_Microsoft Azure', 'PLNY_Windows', 'PLNY_Linux',\\\n",
    "                  'PLNY_MacOS', 'PLNY_Docker', 'PLNY_Google Cloud Platform', 'PLNY_Heroku', \\\n",
    "                  'PLNY_Slack Apps and Integrations', 'PLNY_Raspberry Pi', 'PLNY_AWS', 'PLNY_WordPress', 'PLNY_Arduino',\\\n",
    "                  'PLNY_IBM Cloud or Watson'], inplace = True)"
   ]
  },
  {
   "cell_type": "code",
   "execution_count": 93,
   "id": "d225a205",
   "metadata": {},
   "outputs": [],
   "source": [
    "df['N_Platform_Worked'] = df['PLWW_Android'] + df['PLWW_iOS'] + df['PLWW_Kubernetes'] + \\\n",
    "                          df['PLWW_Microsoft Azure'] + df['PLWW_Windows'] + df['PLWW_Linux'] + \\\n",
    "                          df['PLWW_MacOS'] + df['PLWW_Docker'] + df['PLWW_Google Cloud Platform'] + \\\n",
    "                          df['PLWW_Heroku'] + df['PLWW_Slack Apps and Integrations'] + df['PLWW_Raspberry Pi'] + \\\n",
    "                          df['PLWW_AWS'] + df['PLWW_WordPress'] + df['PLWW_Arduino'] + \\\n",
    "                          df['PLWW_IBM Cloud or Watson']"
   ]
  },
  {
   "cell_type": "code",
   "execution_count": 94,
   "id": "ec93ebad",
   "metadata": {},
   "outputs": [],
   "source": [
    "df.drop(columns =['PLWW_Android', 'PLWW_iOS', 'PLWW_Kubernetes', 'PLWW_Microsoft Azure', 'PLWW_Windows', 'PLWW_Linux',\\\n",
    "                  'PLWW_MacOS', 'PLWW_Docker', 'PLWW_Google Cloud Platform', 'PLWW_Heroku', \\\n",
    "                  'PLWW_Slack Apps and Integrations', 'PLWW_Raspberry Pi', 'PLWW_AWS', 'PLWW_WordPress', 'PLWW_Arduino',\\\n",
    "                  'PLWW_IBM Cloud or Watson'], inplace = True)"
   ]
  },
  {
   "cell_type": "code",
   "execution_count": 95,
   "id": "79244fae",
   "metadata": {},
   "outputs": [],
   "source": [
    "df['N_WebFrame_Desired'] = df['WFNY_ASP.NET Core'] + df['WFNY_Django'] + df['WFNY_Ruby on Rails'] + \\\n",
    "                           df['WFNY_React.js'] + df['WFNY_Vue.js'] + df['WFNY_Angular.js'] + df['WFNY_Flask'] +\\\n",
    "                           df['WFNY_jQuery'] + df['WFNY_Angular'] + df['WFNY_ASP.NET'] + df['WFNY_Gatsby'] +\\\n",
    "                           df['WFNY_Express'] + df['WFNY_Spring'] + df['WFNY_Laravel'] + df['WFNY_Symfony'] + df['WFNY_Drupal']"
   ]
  },
  {
   "cell_type": "code",
   "execution_count": 96,
   "id": "201d4ea3",
   "metadata": {},
   "outputs": [],
   "source": [
    "df.drop(columns =['WFNY_ASP.NET Core', 'WFNY_Django', 'WFNY_Ruby on Rails', 'WFNY_React.js', 'WFNY_Vue.js', \\\n",
    "                  'WFNY_Angular.js', 'WFNY_Flask', 'WFNY_jQuery', 'WFNY_Angular', 'WFNY_ASP.NET', 'WFNY_Gatsby', \\\n",
    "                  'WFNY_Express', 'WFNY_Spring', 'WFNY_Laravel', 'WFNY_Symfony', 'WFNY_Drupal'], inplace = True)"
   ]
  },
  {
   "cell_type": "code",
   "execution_count": 97,
   "id": "9943efb0",
   "metadata": {},
   "outputs": [],
   "source": [
    "df['N_WebFrame_Worked'] = df['WFWW_ASP.NET Core'] + df['WFWW_Django'] + df['WFWW_Ruby on Rails'] + \\\n",
    "                          df['WFWW_React.js'] + df['WFWW_Vue.js'] + df['WFWW_Angular.js'] + df['WFWW_Flask'] +\\\n",
    "                          df['WFWW_jQuery'] + df['WFWW_Angular'] + df['WFWW_ASP.NET'] + df['WFWW_Gatsby'] +\\\n",
    "                          df['WFWW_Express'] + df['WFWW_Spring'] + df['WFWW_Laravel'] + df['WFWW_Symfony'] + df['WFWW_Drupal']"
   ]
  },
  {
   "cell_type": "code",
   "execution_count": 98,
   "id": "a1319b1e",
   "metadata": {},
   "outputs": [],
   "source": [
    "df.drop(columns =['WFWW_ASP.NET Core', 'WFWW_Django', 'WFWW_Ruby on Rails', 'WFWW_React.js', 'WFWW_Vue.js', \\\n",
    "                  'WFWW_Angular.js', 'WFWW_Flask', 'WFWW_jQuery', 'WFWW_Angular', 'WFWW_ASP.NET', 'WFWW_Gatsby', \\\n",
    "                  'WFWW_Express', 'WFWW_Spring', 'WFWW_Laravel', 'WFWW_Symfony', 'WFWW_Drupal'], inplace = True)"
   ]
  },
  {
   "cell_type": "code",
   "execution_count": 99,
   "id": "4693f5de",
   "metadata": {},
   "outputs": [],
   "source": [
    "df['N_CollabTools_Desired'] = df['CTNY_Microsoft Teams'] + df['CTNY_Microsoft Azure'] + df['CTNY_Trello'] + \\\n",
    "                              df['CTNY_Github'] + df['CTNY_Slack'] + df['CTNY_Google-Suite/Docs/Meet'] + \\\n",
    "                              df['CTNY_Jira'] + df['CTNY_Confluence'] + df['CTNY_Gitlab'] + \\\n",
    "                              df['CTNY_StackOverflow-Teams'] + df['CTNY_Facebook Workplace']"
   ]
  },
  {
   "cell_type": "code",
   "execution_count": 100,
   "id": "e9618796",
   "metadata": {},
   "outputs": [],
   "source": [
    "df.drop(columns = ['CTNY_Microsoft Teams', 'CTNY_Microsoft Azure', 'CTNY_Trello', 'CTNY_Github', 'CTNY_Slack', \\\n",
    "                   'CTNY_Google-Suite/Docs/Meet', 'CTNY_Jira', 'CTNY_Confluence', 'CTNY_Gitlab', 'CTNY_StackOverflow-Teams',\\\n",
    "                   'CTNY_Facebook Workplace'], inplace = True)"
   ]
  },
  {
   "cell_type": "code",
   "execution_count": 101,
   "id": "ba5b2db0",
   "metadata": {},
   "outputs": [],
   "source": [
    "df['N_CollabTools_Worked'] = df['CTWW_Confluence'] + df['CTWW_Jira'] + df['CTWW_Slack'] + \\\n",
    "                             df['CTWW_Microsoft Azure'] + df['CTWW_Trello'] + df['CTWW_Github'] + \\\n",
    "                             df['CTWW_Gitlab'] + df['CTWW_Google-Suite/Docs/Meet'] + df['CTWW_Microsoft Teams']+\\\n",
    "                             df['CTWW_Stack Overflow for Teams'] + df['CTWW_Facebook Workplace']"
   ]
  },
  {
   "cell_type": "code",
   "execution_count": 102,
   "id": "7b3ee11c",
   "metadata": {},
   "outputs": [],
   "source": [
    "df.drop(columns = ['CTWW_Confluence', 'CTWW_Jira', 'CTWW_Slack', 'CTWW_Microsoft Azure', 'CTWW_Trello', 'CTWW_Github', \\\n",
    "                   'CTWW_Gitlab', 'CTWW_Google-Suite/Docs/Meet', 'CTWW_Microsoft Teams', 'CTWW_Facebook Workplace',\\\n",
    "                   'CTWW_Stack Overflow for Teams'], inplace = True)"
   ]
  },
  {
   "cell_type": "code",
   "execution_count": 103,
   "id": "d44dbe4b",
   "metadata": {},
   "outputs": [],
   "source": [
    "df['JobHunt']= df['JobHunt_Curious_Other_Opportunities'] + df['JobHunt_WantWork_New_Technolgy'] + \\\n",
    "               df['JobHunt_Better_Compensation'] + df['JobHunt_Growth/Leadership_Opportunities'] + \\\n",
    "               df['JobHunt_Trouble_w/Direct_Manager'] + df['JobHunt_Trouble_w/Leadership_Company'] + \\\n",
    "               df['JobHunt_Better_work/life_balance'] + df['JobHunt_Looking_Relocate'] + \\\n",
    "               df['JobHunt_Bad_day/week/month_Work'] + df['JobHunt_Share_Accomplishments_w/WideNetwork'] + \\\n",
    "               df['JobHunt_Trouble_w/Teammates'] + df['JobHunt_Just because']"
   ]
  },
  {
   "cell_type": "code",
   "execution_count": 104,
   "id": "2d067987",
   "metadata": {},
   "outputs": [
    {
     "data": {
      "text/plain": [
       "(64461, 170)"
      ]
     },
     "execution_count": 104,
     "metadata": {},
     "output_type": "execute_result"
    }
   ],
   "source": [
    "df.shape"
   ]
  },
  {
   "cell_type": "markdown",
   "id": "987f779d",
   "metadata": {},
   "source": [
    "## Dealing with NaN Values:"
   ]
  },
  {
   "cell_type": "code",
   "execution_count": 105,
   "id": "5b22312c",
   "metadata": {},
   "outputs": [],
   "source": [
    "# Dropping columns with more than 50% Nans\n",
    "\n",
    "thresh_50Percent = len(df)/2\n",
    "df.dropna(thresh=thresh_50Percent, axis=1, inplace=True)"
   ]
  },
  {
   "cell_type": "code",
   "execution_count": 106,
   "id": "89c8cb68",
   "metadata": {},
   "outputs": [],
   "source": [
    "# Dropping rows with Nan values for the columns with very few Nans (This action didn't have much affect length of the\n",
    "#overall data)\n",
    "\n",
    "df.dropna(how = 'any', subset = ['MainBranch', 'Hobbyist','Age1stCode', 'Country', 'YearsCoded',\\\n",
    "                                 'Learning_Frequency','Other_DevCommunity'], inplace = True)"
   ]
  },
  {
   "cell_type": "code",
   "execution_count": 107,
   "id": "26eb6c2f",
   "metadata": {},
   "outputs": [
    {
     "data": {
      "text/plain": [
       "30.863534598162765"
      ]
     },
     "execution_count": 107,
     "metadata": {},
     "output_type": "execute_result"
    }
   ],
   "source": [
    "# Replacing Nans in Age column with mean of Age\n",
    "\n",
    "avg_age=df.Age.mean()\n",
    "avg_age"
   ]
  },
  {
   "cell_type": "code",
   "execution_count": 108,
   "id": "5744e980",
   "metadata": {},
   "outputs": [],
   "source": [
    "df.Age.fillna(value=avg_age, inplace=True)"
   ]
  },
  {
   "cell_type": "code",
   "execution_count": 109,
   "id": "55a88fb5",
   "metadata": {},
   "outputs": [
    {
     "data": {
      "text/plain": [
       "104187.59841003665"
      ]
     },
     "execution_count": 109,
     "metadata": {},
     "output_type": "execute_result"
    }
   ],
   "source": [
    "# Replacing Nans in AnnualPay column with mean of AnnualPay\n",
    "\n",
    "annualpay_avg=df.AnnualPay.mean()\n",
    "annualpay_avg"
   ]
  },
  {
   "cell_type": "code",
   "execution_count": 110,
   "id": "438b77c3",
   "metadata": {},
   "outputs": [],
   "source": [
    "df.AnnualPay.fillna(value=annualpay_avg, inplace=True)"
   ]
  },
  {
   "cell_type": "code",
   "execution_count": 111,
   "id": "8327b935",
   "metadata": {},
   "outputs": [],
   "source": [
    "# Replacing the rest of the Nans in following columns with value = 0\n",
    "\n",
    "df.CompFreq.fillna(value=0,inplace=True)\n",
    "df.JobSatisfaction.fillna(value=0,inplace=True)\n",
    "df.Have_DevOps.fillna(value=0,inplace=True)\n",
    "df.DevOps_Important.fillna(value=0,inplace=True)\n",
    "df.Onboarding_Good.fillna(value=0,inplace=True)\n",
    "df.SOAccount_Exist.fillna(value=0,inplace=True)\n",
    "df.SO_Community.fillna(value=0,inplace=True)\n",
    "df.SO_PartFreq.fillna(value=0,inplace=True)\n",
    "df.SO_VisitFreq.fillna(value=0,inplace=True)\n",
    "df.Transgender.fillna(value=0,inplace=True)\n",
    "df.WorkWeekHrs.fillna(value=0,inplace=True)\n",
    "df.Education_level.fillna(value = 0, inplace = True)"
   ]
  },
  {
   "cell_type": "code",
   "execution_count": 112,
   "id": "ee5f1995",
   "metadata": {},
   "outputs": [],
   "source": [
    "df.replace([np.inf, -np.inf], np.nan, inplace=True)"
   ]
  },
  {
   "cell_type": "code",
   "execution_count": 113,
   "id": "5b1d2538",
   "metadata": {},
   "outputs": [],
   "source": [
    "# Replacing Nan in MainBranch with Unknown\n",
    "\n",
    "df.MainBranch.fillna(value = 'Unknown',inplace = True)"
   ]
  },
  {
   "cell_type": "markdown",
   "id": "30e674e2",
   "metadata": {},
   "source": [
    "## Creating copy of Dataset to apply Machine Learning:"
   ]
  },
  {
   "cell_type": "code",
   "execution_count": 114,
   "id": "011c7167",
   "metadata": {},
   "outputs": [],
   "source": [
    "df_ML = df.copy()"
   ]
  },
  {
   "cell_type": "code",
   "execution_count": 115,
   "id": "6d85330b",
   "metadata": {},
   "outputs": [],
   "source": [
    "# Getting rid of String data in Data set\n",
    "\n",
    "df_ML.drop(columns =['Country','FormalEdu_Important','OrgSize'], inplace = True)"
   ]
  },
  {
   "cell_type": "code",
   "execution_count": 116,
   "id": "cc60b6da",
   "metadata": {},
   "outputs": [],
   "source": [
    "# Getting dymmy variables of MainBranch Column\n",
    "\n",
    "df_ML = pd.get_dummies(df_ML, columns=['MainBranch'])"
   ]
  },
  {
   "cell_type": "code",
   "execution_count": 117,
   "id": "0bd17a9a",
   "metadata": {},
   "outputs": [],
   "source": [
    "# astype(int) to convert string to numeric\n",
    "\n",
    "df_ML = df_ML.replace((np.inf, -np.inf, np.nan), 0).reset_index(drop=True)\n",
    "df_ML = df_ML.astype(int)"
   ]
  },
  {
   "cell_type": "code",
   "execution_count": 118,
   "id": "cdc1655e",
   "metadata": {},
   "outputs": [
    {
     "data": {
      "text/plain": [
       "0"
      ]
     },
     "execution_count": 118,
     "metadata": {},
     "output_type": "execute_result"
    }
   ],
   "source": [
    "# Checking for Nans\n",
    "\n",
    "df_ML.isna().sum().sum()"
   ]
  },
  {
   "cell_type": "markdown",
   "id": "0cb7a2c9",
   "metadata": {},
   "source": [
    "# <u> Finding 1: What are the key factors determining the highest Job Satisfaction level? </u>"
   ]
  },
  {
   "cell_type": "markdown",
   "id": "87a8b252",
   "metadata": {},
   "source": [
    "<div class=\"alert alert-block alert-info\">\n",
    "\n",
    "## <u> Summary </u> -\n",
    "\n",
    "#### We found that developers have higher Job Satisfaction, if the onboarding process while starting that job ( i.e. while joining the organization ) is good.\n",
    "    \n",
    "</div>"
   ]
  },
  {
   "cell_type": "markdown",
   "id": "afec33e5",
   "metadata": {},
   "source": [
    "#### We can validate this as follows -"
   ]
  },
  {
   "cell_type": "code",
   "execution_count": 119,
   "id": "602a219a",
   "metadata": {},
   "outputs": [],
   "source": [
    "import sklearn as sk\n",
    "import sklearn.tree as tree\n",
    "from IPython.display import Image  \n",
    "import pydotplus\n",
    "dt = tree.DecisionTreeClassifier(max_depth=2)"
   ]
  },
  {
   "cell_type": "code",
   "execution_count": 120,
   "id": "d4d9b198",
   "metadata": {},
   "outputs": [],
   "source": [
    "Y = df_ML.JobSatisfaction"
   ]
  },
  {
   "cell_type": "code",
   "execution_count": 121,
   "id": "c9f591d1",
   "metadata": {},
   "outputs": [],
   "source": [
    "#dropping Y and unrelated/string data columns as well....\n",
    "\n",
    "X = df_ML.drop(['JobSatisfaction','Age1stCode','CompFreq','JobSeek_Not_Interested','JobSeek_Interested',\\\n",
    "             'Employment_Student','JobSeek_Actively_Looking'],axis=1)"
   ]
  },
  {
   "cell_type": "code",
   "execution_count": 122,
   "id": "1b77a6b0",
   "metadata": {},
   "outputs": [
    {
     "data": {
      "text/plain": [
       "DecisionTreeClassifier(max_depth=2)"
      ]
     },
     "execution_count": 122,
     "metadata": {},
     "output_type": "execute_result"
    }
   ],
   "source": [
    "dt.fit(X,Y)"
   ]
  },
  {
   "cell_type": "markdown",
   "id": "ccd4bc12",
   "metadata": {},
   "source": [
    "### Decision Tree to see what factors decide Job Satisfaction"
   ]
  },
  {
   "cell_type": "code",
   "execution_count": 123,
   "id": "a7bfcfe0",
   "metadata": {
    "scrolled": true
   },
   "outputs": [
    {
     "data": {
      "image/png": "[encoded data removed]",
      "text/plain": [
       "<IPython.core.display.Image object>"
      ]
     },
     "execution_count": 123,
     "metadata": {},
     "output_type": "execute_result"
    }
   ],
   "source": [
    "# This code will visualize a decision tree dt, trained with the attributes in X and the class labels in Y\n",
    "\n",
    "dt_feature_names = list(X.columns)\n",
    "dt_target_names = [str(s) for s in Y.unique()]\n",
    "tree.export_graphviz(dt, out_file='tree.dot', \n",
    "    feature_names=dt_feature_names, class_names=dt_target_names,\n",
    "    filled=True)  \n",
    "graph = pydotplus.graph_from_dot_file('tree.dot')\n",
    "Image(graph.create_png())"
   ]
  },
  {
   "cell_type": "markdown",
   "id": "d2b22389",
   "metadata": {},
   "source": [
    "#### We know that in \"Job Satisfaction\" column the values are assigned as follows -\n",
    "<ol>\n",
    "<br>-2 - Very dissatisfied\n",
    "<br>-1 - Slightly dissatisfied\n",
    "<br>0 - Neither satisfied nor dissatisfied\n",
    "<br>1 - Slightly satisfied\n",
    "<br>2 - Very satisfied\n",
    "</ol>"
   ]
  },
  {
   "cell_type": "markdown",
   "id": "e7667117",
   "metadata": {},
   "source": [
    "#### We are interested in class 2... i.e. \"Very Satisfied\" category. \n",
    "\n",
    "### Observation : We can see that for WorkWeekHrs(Average number of hours per week that a person works for) greater than 0.5 hours/week, Job Satisfaction is 2 (highest) for developers who had a good onboarding process.\n",
    "\n",
    "#### We can validate this using... \n",
    "\n",
    "### <u> Graph of Job Satisfaction for developers accross all work week hours -</u>"
   ]
  },
  {
   "cell_type": "code",
   "execution_count": 124,
   "id": "e58135fa",
   "metadata": {},
   "outputs": [],
   "source": [
    "df_ML['Discretized_WorkWeekHrs']=pd.cut(df_ML.WorkWeekHrs,5)"
   ]
  },
  {
   "cell_type": "code",
   "execution_count": 125,
   "id": "55bcbc82",
   "metadata": {},
   "outputs": [
    {
     "data": {
      "text/plain": [
       "<seaborn.axisgrid.FacetGrid at 0x7fb7f8fcc430>"
      ]
     },
     "execution_count": 125,
     "metadata": {},
     "output_type": "execute_result"
    },
    {
     "data": {
      "image/png": "[encoded data removed]",
      "text/plain": [
       "<Figure size 1177.62x360 with 1 Axes>"
      ]
     },
     "metadata": {
      "needs_background": "light"
     },
     "output_type": "display_data"
    }
   ],
   "source": [
    "sns.catplot(x='Discretized_WorkWeekHrs', y='JobSatisfaction', hue='Onboarding_Good', data=df_ML, kind='point',aspect=3,\\\n",
    "           ci=None).set_xticklabels(rotation=90)"
   ]
  },
  {
   "cell_type": "markdown",
   "id": "d88364ef",
   "metadata": {},
   "source": [
    "### Observation : Job Satisfaction is higher for developers who had a good experience with their onboading process"
   ]
  },
  {
   "cell_type": "markdown",
   "id": "f7a7424e",
   "metadata": {},
   "source": [
    "<div class=\"alert alert-block alert-info\">\n",
    "\n",
    "## <u> Managerial Insight 1</u> : Job Satisfaction is higher for developers with good onboarding experience : so what?\n",
    "\n",
    "#### By onboarding, we mean the structured process of getting developers settled in to their new role at a company. We can see that developers are satisfied at work if they are on boarded in smoothly, with a robust HR process, feel included and more as a \"part of their company\". This seems to be the most significant factor determining highest satisfaction levels. Thus, we can see the importance of HR and on boarding procedures for new hires. If companies make sure that they onboard their employees well, with a good HR team, their employees will be more satisfied and therefore be more profitable assets to the company.\n",
    "    \n",
    "</div>"
   ]
  },
  {
   "cell_type": "markdown",
   "id": "6f2a36b7",
   "metadata": {},
   "source": [
    "# <u> Finding 2: Women leave coding jobs earlier than men. They consider different factors when choosing between two new job opportunities. </u>"
   ]
  },
  {
   "cell_type": "markdown",
   "id": "8e1f749e",
   "metadata": {},
   "source": [
    "<div class=\"alert alert-block alert-info\">\n",
    "    \n",
    "## <u> Summary</u> - \n",
    "\n",
    "#### As women developers advance in their careers, they tend to leave their coding jobs earlier (compared to men) and when they look for new opportunities they prefer organisations with more gender diversity.\n",
    "\n",
    "</div>\n",
    "\n"
   ]
  },
  {
   "cell_type": "markdown",
   "id": "ffdabfe4",
   "metadata": {},
   "source": [
    "#### We can validate this as follows -"
   ]
  },
  {
   "cell_type": "code",
   "execution_count": 126,
   "id": "106ec0c1",
   "metadata": {
    "scrolled": true
   },
   "outputs": [
    {
     "name": "stdout",
     "output_type": "stream",
     "text": [
      "Populating the interactive namespace from numpy and matplotlib\n"
     ]
    }
   ],
   "source": [
    "%pylab inline\n",
    "import matplotlib.pyplot as plt"
   ]
  },
  {
   "cell_type": "code",
   "execution_count": 127,
   "id": "fbb8744a",
   "metadata": {},
   "outputs": [],
   "source": [
    "import matplotlib.patches as mpatches"
   ]
  },
  {
   "cell_type": "code",
   "execution_count": 128,
   "id": "63e67dbf",
   "metadata": {},
   "outputs": [],
   "source": [
    "# 2 DataFrames for males and females respectively\n",
    "\n",
    "maleDf = df[ df[\"Gender_Man\"]==1]\n",
    "femaleDf = df[ df[\"Gender_Woman\"]==1 ]"
   ]
  },
  {
   "cell_type": "markdown",
   "id": "9c9936eb",
   "metadata": {},
   "source": [
    "### <u> Graph of Percentage of men and women by their professional coding experience </u>"
   ]
  },
  {
   "cell_type": "code",
   "execution_count": 129,
   "id": "8e26e1c7",
   "metadata": {},
   "outputs": [],
   "source": [
    "mybins=[0,5,10,15,20,25,30,35]\n",
    "male_exp_hist = maleDf.groupby(pd.cut(maleDf.YearsCodedProfessionally.astype(float),mybins)).size()/len(maleDf)*100\n",
    "female_exp_hist = femaleDf.groupby(pd.cut(femaleDf.YearsCodedProfessionally.astype(float),mybins)).size()/len(femaleDf)*100"
   ]
  },
  {
   "cell_type": "code",
   "execution_count": 130,
   "id": "5b924a9b",
   "metadata": {
    "scrolled": false
   },
   "outputs": [
    {
     "data": {
      "image/png": "[encoded data removed]",
      "text/plain": [
       "<Figure size 576x432 with 1 Axes>"
      ]
     },
     "metadata": {
      "needs_background": "light"
     },
     "output_type": "display_data"
    }
   ],
   "source": [
    "fig = plt.figure()\n",
    "fig.set_size_inches(8, 6)\n",
    "ax = fig.add_subplot(111)\n",
    "ax.barh(mybins[:-1], male_exp_hist.values, height=3,color='blue')\n",
    "ax.barh(mybins[:-1], female_exp_hist.values, height=2,color='pink')\n",
    "ax.invert_yaxis()\n",
    "ax.set_yticklabels([\"\",\"0-5 Years\",\"5-10  Years\",\"10-15  Years\",\"15-20  Years\",\"20-25  Years\",\"25-30  Years\",\"30-35 Years\",\\\n",
    "                    \"35-40 Years\"])\n",
    "plt.xticks(np.arange(0, 50, 5.0))\n",
    "ax.set_xticklabels([  f\"{i} %\" for i in   np.arange(0, 50, 5.0)   ])\n",
    "plt.legend(handles=[mpatches.Patch(color='pink', label='Women'), mpatches.Patch(color='blue', label='Men')])\n",
    "plt.show();"
   ]
  },
  {
   "cell_type": "markdown",
   "id": "78cbb08e",
   "metadata": {},
   "source": [
    "### Observation : As we see in the above graph, higher percentage of women are in the experience group of 0-5 years and fewer women are in the higher experience bracket. There are relatively more men than women, as the number of years of experience increases. Women tend to leave coding jobs earlier than men."
   ]
  },
  {
   "cell_type": "code",
   "execution_count": 131,
   "id": "af0c65e2",
   "metadata": {},
   "outputs": [],
   "source": [
    "jobHunt = df[ df[\"JobHunt\"] == 1]\n",
    "jobHunt_factors = ['Remote-Work', 'ProfessionalDevelopment', 'Flexible-Time', 'Company-Culture', 'Organization-Diversity',\\\n",
    "                   'Family friendliness','Work-Impact/Useful','Industry', 'Org-Financial-Status','Specific-Department/Team']\n",
    "job_factors_columns = [f\"JobF_{i}\" for i in  jobHunt_factors]"
   ]
  },
  {
   "cell_type": "code",
   "execution_count": 132,
   "id": "f3853fb9",
   "metadata": {},
   "outputs": [],
   "source": [
    "maleDf =jobHunt[ df[\"Gender_Man\"]==1 ]\n",
    "femaleDf =jobHunt[ df[\"Gender_Woman\"]==1 ]\n",
    "\n",
    "male_importance = maleDf[job_factors_columns].mean()\n",
    "female_importance = femaleDf[job_factors_columns].mean()"
   ]
  },
  {
   "cell_type": "code",
   "execution_count": 133,
   "id": "3fa67d12",
   "metadata": {},
   "outputs": [
    {
     "name": "stdout",
     "output_type": "stream",
     "text": [
      "JobF_Organization-Diversity     2.21\n",
      "JobF_ProfessionalDevelopment    1.12\n",
      "JobF_Flexible-Time              1.10\n",
      "JobF_Company-Culture            1.08\n",
      "JobF_Org-Financial-Status       1.00\n",
      "JobF_Specific-Department/Team   0.99\n",
      "JobF_Remote-Work                0.94\n",
      "JobF_Family friendliness        0.87\n",
      "JobF_Work-Impact/Useful         0.80\n",
      "JobF_Industry                   0.58\n",
      "dtype: float64\n"
     ]
    }
   ],
   "source": [
    "relative= ((female_importance)/male_importance).sort_values(ascending=False)\n",
    "print(relative)"
   ]
  },
  {
   "cell_type": "markdown",
   "id": "985e0cd2",
   "metadata": {},
   "source": [
    "### <u> Graph of excess percent importance for women when choosing a Job </u>"
   ]
  },
  {
   "cell_type": "code",
   "execution_count": 134,
   "id": "61c4a65f",
   "metadata": {},
   "outputs": [
    {
     "data": {
      "image/png": "[encoded data removed]",
      "text/plain": [
       "<Figure size 576x432 with 1 Axes>"
      ]
     },
     "metadata": {
      "needs_background": "light"
     },
     "output_type": "display_data"
    }
   ],
   "source": [
    "fig = plt.figure()\n",
    "fig.set_size_inches(8, 6)\n",
    "ax = fig.add_subplot(111)\n",
    "ax.barh([s[5:] for s in relative.index],(relative.values-1)*100, color=['pink' if v >1 else 'blue' for v in relative.values])\n",
    "ax.invert_yaxis()\n",
    "plt.show();"
   ]
  },
  {
   "cell_type": "markdown",
   "id": "3646c6b7",
   "metadata": {},
   "source": [
    "###  Observation : Women looking for new job look for slightly different things than men. Women value diversity 120% more than men. They also give higher importance to Professional Development, Flexible Time, and Company Culture by 12% , 10% and 8% respectively.\n",
    "\n",
    "### Women emphasize less on remote work, family friendlyness and work impact. They are also significantly (40%) more flexible than men in choosing the domain or industry they will work for."
   ]
  },
  {
   "cell_type": "markdown",
   "id": "dd8cadd0",
   "metadata": {},
   "source": [
    "<div class=\"alert alert-block alert-info\">\n",
    "\n",
    "## <u> Managerial Insight 2 </u> : Women tend to leave coding jobs earlier than men and look for different factors while choosing a job: So what?\n",
    "\n",
    "#### With more experience comes more profitability. By losing out on experienced women talent, organizations are hampering their profitability.\n",
    "\n",
    "#### Recruiting managers can showcase to possible women recruits the existing diversity or diversity programmes their organization offers. They could offer new hires more flexible working times along with professional development opportunities. \n",
    "\n",
    "#### We can also suggest that organizations take measures to assess if there is any bias that hampers womens professional development or if the work culture is unsuitable since these are the other two factors that drives women towards new jobs compared to men. \n",
    "\n",
    "#### The 120% more emphasis on diversity among women suggests that hiring more women or otherwise increasing diversity would create a positive feedback loop further improving diversity and reducing the early attrition among women.\n",
    "    \n",
    "</div>"
   ]
  },
  {
   "cell_type": "markdown",
   "id": "c6b218d5",
   "metadata": {},
   "source": [
    "## <u> Finding 3 : The need for Better Compensation for Professional Developers </u>"
   ]
  },
  {
   "cell_type": "markdown",
   "id": "41218803",
   "metadata": {},
   "source": [
    "<div class=\"alert alert-block alert-info\">\n",
    "    \n",
    "## <u> Summary </u> -\n",
    "\n",
    "#### Developers who are paid higher, have more job satisfation, but professional developers are paid the least among all the types of developers, accross various organisational sizes despite of the fact that they work harder/longer hours per week compared to others.\n",
    "    \n",
    "</div>\n",
    "\n"
   ]
  },
  {
   "cell_type": "markdown",
   "id": "31e5b79f",
   "metadata": {},
   "source": [
    "#### We can validate this as follows -"
   ]
  },
  {
   "cell_type": "code",
   "execution_count": 135,
   "id": "4d961ada",
   "metadata": {},
   "outputs": [],
   "source": [
    "# Dataframe containing relevent columns for Clustering\n",
    "\n",
    "df_clust = df[['Hobbyist','Age','Age1stCode','WorkWeekHrs','YearsCoded','YearsCodedProfessionally','AnnualPay',\\\n",
    "               'Education_level', 'JobSatisfaction','Learning_Frequency','N_Language_Worked','N_Misc_Tech_Worked',\\\n",
    "               'N_Platform_Worked','N_WebFrame_Worked','N_CollabTools_Worked', 'Gender_Man','Gender_Woman', \\\n",
    "               'Gender_Non-binary/Queer/Non-Conforming', 'JobF_Company-Culture','JobF_Flexible-Time','JobHunt']]"
   ]
  },
  {
   "cell_type": "code",
   "execution_count": 136,
   "id": "37fe32a2",
   "metadata": {},
   "outputs": [],
   "source": [
    "df_clust.YearsCodedProfessionally.fillna(value =0,inplace = True)"
   ]
  },
  {
   "cell_type": "code",
   "execution_count": 137,
   "id": "75b5c010",
   "metadata": {},
   "outputs": [],
   "source": [
    "df_clust = df_clust.astype(int)"
   ]
  },
  {
   "cell_type": "code",
   "execution_count": 138,
   "id": "3b0b5f50",
   "metadata": {},
   "outputs": [
    {
     "data": {
      "text/plain": [
       "0"
      ]
     },
     "execution_count": 138,
     "metadata": {},
     "output_type": "execute_result"
    }
   ],
   "source": [
    "# Checking Data Set for Nans\n",
    "\n",
    "df_clust.isna().sum().sum()"
   ]
  },
  {
   "cell_type": "code",
   "execution_count": 139,
   "id": "375c27e8",
   "metadata": {},
   "outputs": [],
   "source": [
    "from sklearn.cluster import KMeans\n",
    "clu = KMeans(n_clusters = 4, random_state = 0)"
   ]
  },
  {
   "cell_type": "code",
   "execution_count": 140,
   "id": "f2cc6156",
   "metadata": {},
   "outputs": [
    {
     "data": {
      "text/plain": [
       "KMeans(n_clusters=4, random_state=0)"
      ]
     },
     "execution_count": 140,
     "metadata": {},
     "output_type": "execute_result"
    }
   ],
   "source": [
    "clu.fit(df_clust)"
   ]
  },
  {
   "cell_type": "code",
   "execution_count": 141,
   "id": "306ebf3f",
   "metadata": {},
   "outputs": [
    {
     "data": {
      "text/plain": [
       "array([0, 0, 0, ..., 3, 0, 3], dtype=int32)"
      ]
     },
     "execution_count": 141,
     "metadata": {},
     "output_type": "execute_result"
    }
   ],
   "source": [
    "clu.labels_ "
   ]
  },
  {
   "cell_type": "code",
   "execution_count": 142,
   "id": "ad8681d8",
   "metadata": {},
   "outputs": [],
   "source": [
    "df_clust['clusters'] = clu.labels_"
   ]
  },
  {
   "cell_type": "code",
   "execution_count": 143,
   "id": "5e29523b",
   "metadata": {},
   "outputs": [
    {
     "data": {
      "text/html": [
       "<div>\n",
       "<style scoped>\n",
       "    .dataframe tbody tr th:only-of-type {\n",
       "        vertical-align: middle;\n",
       "    }\n",
       "\n",
       "    .dataframe tbody tr th {\n",
       "        vertical-align: top;\n",
       "    }\n",
       "\n",
       "    .dataframe thead th {\n",
       "        text-align: right;\n",
       "    }\n",
       "</style>\n",
       "<table border=\"1\" class=\"dataframe\">\n",
       "  <thead>\n",
       "    <tr style=\"text-align: right;\">\n",
       "      <th></th>\n",
       "      <th>Hobbyist</th>\n",
       "      <th>Age</th>\n",
       "      <th>Age1stCode</th>\n",
       "      <th>WorkWeekHrs</th>\n",
       "      <th>YearsCoded</th>\n",
       "      <th>YearsCodedProfessionally</th>\n",
       "      <th>AnnualPay</th>\n",
       "      <th>Education_level</th>\n",
       "      <th>JobSatisfaction</th>\n",
       "      <th>Learning_Frequency</th>\n",
       "      <th>N_Language_Worked</th>\n",
       "      <th>N_Misc_Tech_Worked</th>\n",
       "      <th>N_Platform_Worked</th>\n",
       "      <th>N_WebFrame_Worked</th>\n",
       "      <th>N_CollabTools_Worked</th>\n",
       "      <th>Gender_Man</th>\n",
       "      <th>Gender_Woman</th>\n",
       "      <th>Gender_Non-binary/Queer/Non-Conforming</th>\n",
       "      <th>JobF_Company-Culture</th>\n",
       "      <th>JobF_Flexible-Time</th>\n",
       "      <th>JobHunt</th>\n",
       "      <th>clusters</th>\n",
       "    </tr>\n",
       "  </thead>\n",
       "  <tbody>\n",
       "    <tr>\n",
       "      <th>0</th>\n",
       "      <td>1</td>\n",
       "      <td>30</td>\n",
       "      <td>13</td>\n",
       "      <td>50</td>\n",
       "      <td>36</td>\n",
       "      <td>27</td>\n",
       "      <td>104187</td>\n",
       "      <td>6</td>\n",
       "      <td>1</td>\n",
       "      <td>2</td>\n",
       "      <td>6</td>\n",
       "      <td>2</td>\n",
       "      <td>1</td>\n",
       "      <td>2</td>\n",
       "      <td>5</td>\n",
       "      <td>1</td>\n",
       "      <td>0</td>\n",
       "      <td>0</td>\n",
       "      <td>0</td>\n",
       "      <td>0</td>\n",
       "      <td>0</td>\n",
       "      <td>0</td>\n",
       "    </tr>\n",
       "    <tr>\n",
       "      <th>1</th>\n",
       "      <td>0</td>\n",
       "      <td>30</td>\n",
       "      <td>19</td>\n",
       "      <td>0</td>\n",
       "      <td>7</td>\n",
       "      <td>4</td>\n",
       "      <td>104187</td>\n",
       "      <td>5</td>\n",
       "      <td>-2</td>\n",
       "      <td>2</td>\n",
       "      <td>5</td>\n",
       "      <td>1</td>\n",
       "      <td>1</td>\n",
       "      <td>0</td>\n",
       "      <td>5</td>\n",
       "      <td>0</td>\n",
       "      <td>0</td>\n",
       "      <td>0</td>\n",
       "      <td>0</td>\n",
       "      <td>0</td>\n",
       "      <td>0</td>\n",
       "      <td>0</td>\n",
       "    </tr>\n",
       "    <tr>\n",
       "      <th>2</th>\n",
       "      <td>1</td>\n",
       "      <td>30</td>\n",
       "      <td>15</td>\n",
       "      <td>0</td>\n",
       "      <td>4</td>\n",
       "      <td>0</td>\n",
       "      <td>104187</td>\n",
       "      <td>0</td>\n",
       "      <td>0</td>\n",
       "      <td>0</td>\n",
       "      <td>4</td>\n",
       "      <td>0</td>\n",
       "      <td>0</td>\n",
       "      <td>0</td>\n",
       "      <td>0</td>\n",
       "      <td>0</td>\n",
       "      <td>0</td>\n",
       "      <td>0</td>\n",
       "      <td>0</td>\n",
       "      <td>0</td>\n",
       "      <td>0</td>\n",
       "      <td>0</td>\n",
       "    </tr>\n",
       "    <tr>\n",
       "      <th>3</th>\n",
       "      <td>1</td>\n",
       "      <td>25</td>\n",
       "      <td>18</td>\n",
       "      <td>40</td>\n",
       "      <td>7</td>\n",
       "      <td>4</td>\n",
       "      <td>104187</td>\n",
       "      <td>6</td>\n",
       "      <td>-1</td>\n",
       "      <td>2</td>\n",
       "      <td>0</td>\n",
       "      <td>0</td>\n",
       "      <td>0</td>\n",
       "      <td>0</td>\n",
       "      <td>0</td>\n",
       "      <td>1</td>\n",
       "      <td>0</td>\n",
       "      <td>0</td>\n",
       "      <td>1</td>\n",
       "      <td>1</td>\n",
       "      <td>2</td>\n",
       "      <td>0</td>\n",
       "    </tr>\n",
       "    <tr>\n",
       "      <th>4</th>\n",
       "      <td>1</td>\n",
       "      <td>31</td>\n",
       "      <td>16</td>\n",
       "      <td>0</td>\n",
       "      <td>15</td>\n",
       "      <td>8</td>\n",
       "      <td>104187</td>\n",
       "      <td>5</td>\n",
       "      <td>0</td>\n",
       "      <td>2</td>\n",
       "      <td>5</td>\n",
       "      <td>1</td>\n",
       "      <td>5</td>\n",
       "      <td>1</td>\n",
       "      <td>4</td>\n",
       "      <td>1</td>\n",
       "      <td>0</td>\n",
       "      <td>0</td>\n",
       "      <td>0</td>\n",
       "      <td>0</td>\n",
       "      <td>0</td>\n",
       "      <td>0</td>\n",
       "    </tr>\n",
       "  </tbody>\n",
       "</table>\n",
       "</div>"
      ],
      "text/plain": [
       "   Hobbyist  Age  Age1stCode  WorkWeekHrs  YearsCoded  \\\n",
       "0         1   30          13           50          36   \n",
       "1         0   30          19            0           7   \n",
       "2         1   30          15            0           4   \n",
       "3         1   25          18           40           7   \n",
       "4         1   31          16            0          15   \n",
       "\n",
       "   YearsCodedProfessionally  AnnualPay  Education_level  JobSatisfaction  \\\n",
       "0                        27     104187                6                1   \n",
       "1                         4     104187                5               -2   \n",
       "2                         0     104187                0                0   \n",
       "3                         4     104187                6               -1   \n",
       "4                         8     104187                5                0   \n",
       "\n",
       "   Learning_Frequency  N_Language_Worked  N_Misc_Tech_Worked  \\\n",
       "0                   2                  6                   2   \n",
       "1                   2                  5                   1   \n",
       "2                   0                  4                   0   \n",
       "3                   2                  0                   0   \n",
       "4                   2                  5                   1   \n",
       "\n",
       "   N_Platform_Worked  N_WebFrame_Worked  N_CollabTools_Worked  Gender_Man  \\\n",
       "0                  1                  2                     5           1   \n",
       "1                  1                  0                     5           0   \n",
       "2                  0                  0                     0           0   \n",
       "3                  0                  0                     0           1   \n",
       "4                  5                  1                     4           1   \n",
       "\n",
       "   Gender_Woman  Gender_Non-binary/Queer/Non-Conforming  JobF_Company-Culture  \\\n",
       "0             0                                       0                     0   \n",
       "1             0                                       0                     0   \n",
       "2             0                                       0                     0   \n",
       "3             0                                       0                     1   \n",
       "4             0                                       0                     0   \n",
       "\n",
       "   JobF_Flexible-Time  JobHunt  clusters  \n",
       "0                   0        0         0  \n",
       "1                   0        0         0  \n",
       "2                   0        0         0  \n",
       "3                   1        2         0  \n",
       "4                   0        0         0  "
      ]
     },
     "execution_count": 143,
     "metadata": {},
     "output_type": "execute_result"
    }
   ],
   "source": [
    "df_clust.head()"
   ]
  },
  {
   "cell_type": "code",
   "execution_count": 144,
   "id": "58ae01c7",
   "metadata": {
    "scrolled": true
   },
   "outputs": [
    {
     "data": {
      "text/html": [
       "<div>\n",
       "<style scoped>\n",
       "    .dataframe tbody tr th:only-of-type {\n",
       "        vertical-align: middle;\n",
       "    }\n",
       "\n",
       "    .dataframe tbody tr th {\n",
       "        vertical-align: top;\n",
       "    }\n",
       "\n",
       "    .dataframe thead th {\n",
       "        text-align: right;\n",
       "    }\n",
       "</style>\n",
       "<table border=\"1\" class=\"dataframe\">\n",
       "  <thead>\n",
       "    <tr style=\"text-align: right;\">\n",
       "      <th></th>\n",
       "      <th>Hobbyist</th>\n",
       "      <th>Age</th>\n",
       "      <th>Age1stCode</th>\n",
       "      <th>WorkWeekHrs</th>\n",
       "      <th>YearsCoded</th>\n",
       "      <th>YearsCodedProfessionally</th>\n",
       "      <th>AnnualPay</th>\n",
       "      <th>Education_level</th>\n",
       "      <th>JobSatisfaction</th>\n",
       "      <th>Learning_Frequency</th>\n",
       "      <th>N_Language_Worked</th>\n",
       "      <th>N_Misc_Tech_Worked</th>\n",
       "      <th>N_Platform_Worked</th>\n",
       "      <th>N_WebFrame_Worked</th>\n",
       "      <th>N_CollabTools_Worked</th>\n",
       "      <th>Gender_Man</th>\n",
       "      <th>Gender_Woman</th>\n",
       "      <th>Gender_Non-binary/Queer/Non-Conforming</th>\n",
       "      <th>JobF_Company-Culture</th>\n",
       "      <th>JobF_Flexible-Time</th>\n",
       "      <th>JobHunt</th>\n",
       "    </tr>\n",
       "    <tr>\n",
       "      <th>clusters</th>\n",
       "      <th></th>\n",
       "      <th></th>\n",
       "      <th></th>\n",
       "      <th></th>\n",
       "      <th></th>\n",
       "      <th></th>\n",
       "      <th></th>\n",
       "      <th></th>\n",
       "      <th></th>\n",
       "      <th></th>\n",
       "      <th></th>\n",
       "      <th></th>\n",
       "      <th></th>\n",
       "      <th></th>\n",
       "      <th></th>\n",
       "      <th></th>\n",
       "      <th></th>\n",
       "      <th></th>\n",
       "      <th></th>\n",
       "      <th></th>\n",
       "      <th></th>\n",
       "    </tr>\n",
       "  </thead>\n",
       "  <tbody>\n",
       "    <tr>\n",
       "      <th>0</th>\n",
       "      <td>0.80</td>\n",
       "      <td>31.01</td>\n",
       "      <td>15.13</td>\n",
       "      <td>23.46</td>\n",
       "      <td>13.39</td>\n",
       "      <td>7.04</td>\n",
       "      <td>113043.28</td>\n",
       "      <td>4.35</td>\n",
       "      <td>0.47</td>\n",
       "      <td>2.09</td>\n",
       "      <td>6.82</td>\n",
       "      <td>1.63</td>\n",
       "      <td>3.14</td>\n",
       "      <td>1.97</td>\n",
       "      <td>2.96</td>\n",
       "      <td>0.91</td>\n",
       "      <td>0.08</td>\n",
       "      <td>0.01</td>\n",
       "      <td>0.37</td>\n",
       "      <td>0.35</td>\n",
       "      <td>2.47</td>\n",
       "    </tr>\n",
       "    <tr>\n",
       "      <th>1</th>\n",
       "      <td>0.79</td>\n",
       "      <td>32.66</td>\n",
       "      <td>14.94</td>\n",
       "      <td>41.56</td>\n",
       "      <td>14.65</td>\n",
       "      <td>8.91</td>\n",
       "      <td>1919331.56</td>\n",
       "      <td>4.59</td>\n",
       "      <td>0.67</td>\n",
       "      <td>1.98</td>\n",
       "      <td>7.56</td>\n",
       "      <td>1.99</td>\n",
       "      <td>3.74</td>\n",
       "      <td>2.70</td>\n",
       "      <td>3.54</td>\n",
       "      <td>0.95</td>\n",
       "      <td>0.06</td>\n",
       "      <td>0.00</td>\n",
       "      <td>0.47</td>\n",
       "      <td>0.40</td>\n",
       "      <td>4.09</td>\n",
       "    </tr>\n",
       "    <tr>\n",
       "      <th>2</th>\n",
       "      <td>0.76</td>\n",
       "      <td>33.44</td>\n",
       "      <td>14.94</td>\n",
       "      <td>39.10</td>\n",
       "      <td>16.14</td>\n",
       "      <td>9.90</td>\n",
       "      <td>804505.82</td>\n",
       "      <td>4.89</td>\n",
       "      <td>0.68</td>\n",
       "      <td>1.93</td>\n",
       "      <td>6.93</td>\n",
       "      <td>1.74</td>\n",
       "      <td>3.36</td>\n",
       "      <td>2.12</td>\n",
       "      <td>3.59</td>\n",
       "      <td>0.95</td>\n",
       "      <td>0.06</td>\n",
       "      <td>0.01</td>\n",
       "      <td>0.51</td>\n",
       "      <td>0.43</td>\n",
       "      <td>3.78</td>\n",
       "    </tr>\n",
       "    <tr>\n",
       "      <th>3</th>\n",
       "      <td>0.77</td>\n",
       "      <td>30.19</td>\n",
       "      <td>15.50</td>\n",
       "      <td>38.08</td>\n",
       "      <td>12.21</td>\n",
       "      <td>6.68</td>\n",
       "      <td>34476.68</td>\n",
       "      <td>4.62</td>\n",
       "      <td>0.54</td>\n",
       "      <td>2.07</td>\n",
       "      <td>6.84</td>\n",
       "      <td>1.60</td>\n",
       "      <td>3.12</td>\n",
       "      <td>2.34</td>\n",
       "      <td>3.35</td>\n",
       "      <td>0.96</td>\n",
       "      <td>0.07</td>\n",
       "      <td>0.01</td>\n",
       "      <td>0.45</td>\n",
       "      <td>0.46</td>\n",
       "      <td>3.85</td>\n",
       "    </tr>\n",
       "  </tbody>\n",
       "</table>\n",
       "</div>"
      ],
      "text/plain": [
       "          Hobbyist   Age  Age1stCode  WorkWeekHrs  YearsCoded  \\\n",
       "clusters                                                        \n",
       "0             0.80 31.01       15.13        23.46       13.39   \n",
       "1             0.79 32.66       14.94        41.56       14.65   \n",
       "2             0.76 33.44       14.94        39.10       16.14   \n",
       "3             0.77 30.19       15.50        38.08       12.21   \n",
       "\n",
       "          YearsCodedProfessionally  AnnualPay  Education_level  \\\n",
       "clusters                                                         \n",
       "0                             7.04  113043.28             4.35   \n",
       "1                             8.91 1919331.56             4.59   \n",
       "2                             9.90  804505.82             4.89   \n",
       "3                             6.68   34476.68             4.62   \n",
       "\n",
       "          JobSatisfaction  Learning_Frequency  N_Language_Worked  \\\n",
       "clusters                                                           \n",
       "0                    0.47                2.09               6.82   \n",
       "1                    0.67                1.98               7.56   \n",
       "2                    0.68                1.93               6.93   \n",
       "3                    0.54                2.07               6.84   \n",
       "\n",
       "          N_Misc_Tech_Worked  N_Platform_Worked  N_WebFrame_Worked  \\\n",
       "clusters                                                             \n",
       "0                       1.63               3.14               1.97   \n",
       "1                       1.99               3.74               2.70   \n",
       "2                       1.74               3.36               2.12   \n",
       "3                       1.60               3.12               2.34   \n",
       "\n",
       "          N_CollabTools_Worked  Gender_Man  Gender_Woman  \\\n",
       "clusters                                                   \n",
       "0                         2.96        0.91          0.08   \n",
       "1                         3.54        0.95          0.06   \n",
       "2                         3.59        0.95          0.06   \n",
       "3                         3.35        0.96          0.07   \n",
       "\n",
       "          Gender_Non-binary/Queer/Non-Conforming  JobF_Company-Culture  \\\n",
       "clusters                                                                 \n",
       "0                                           0.01                  0.37   \n",
       "1                                           0.00                  0.47   \n",
       "2                                           0.01                  0.51   \n",
       "3                                           0.01                  0.45   \n",
       "\n",
       "          JobF_Flexible-Time  JobHunt  \n",
       "clusters                               \n",
       "0                       0.35     2.47  \n",
       "1                       0.40     4.09  \n",
       "2                       0.43     3.78  \n",
       "3                       0.46     3.85  "
      ]
     },
     "execution_count": 144,
     "metadata": {},
     "output_type": "execute_result"
    }
   ],
   "source": [
    "df_clust.groupby('clusters').mean()"
   ]
  },
  {
   "cell_type": "markdown",
   "id": "10b63479",
   "metadata": {},
   "source": [
    "### Observing the clusters we see that the cluster 1 and 2 have higher AnnualPay... their Job Satisfaction is higher.. and so is their WorkWeekHrs.. Lets analyze further..."
   ]
  },
  {
   "cell_type": "markdown",
   "id": "6e521212",
   "metadata": {},
   "source": [
    "### <u> Graph of Job Satisfaction of Developers compared with their Annual Pay </u>"
   ]
  },
  {
   "cell_type": "code",
   "execution_count": 145,
   "id": "2c01c615",
   "metadata": {},
   "outputs": [
    {
     "data": {
      "text/plain": [
       "<seaborn.axisgrid.FacetGrid at 0x7fb7fe990d00>"
      ]
     },
     "execution_count": 145,
     "metadata": {},
     "output_type": "execute_result"
    },
    {
     "data": {
      "image/png": "[encoded data removed]",
      "text/plain": [
       "<Figure size 360x360 with 1 Axes>"
      ]
     },
     "metadata": {
      "needs_background": "light"
     },
     "output_type": "display_data"
    }
   ],
   "source": [
    "sns.catplot(y='AnnualPay',x='JobSatisfaction',data=df,kind='bar')"
   ]
  },
  {
   "cell_type": "markdown",
   "id": "bac089b5",
   "metadata": {},
   "source": [
    "### Observation : Here we see that Job Satisfaction is higher for developers who are paid well.\n",
    "\n",
    "### Let's analyze further..."
   ]
  },
  {
   "cell_type": "code",
   "execution_count": 146,
   "id": "b6dab613",
   "metadata": {},
   "outputs": [],
   "source": [
    "df.YearsCoded = df.YearsCoded.astype(int)"
   ]
  },
  {
   "cell_type": "markdown",
   "id": "776d48ed",
   "metadata": {},
   "source": [
    "### <u> Graph of Avg Annual Pay of all the different Main Branches of developers </u>"
   ]
  },
  {
   "cell_type": "code",
   "execution_count": 147,
   "id": "69df3a6d",
   "metadata": {},
   "outputs": [
    {
     "data": {
      "image/png": "[encoded data removed]",
      "text/plain": [
       "<Figure size 648x360 with 1 Axes>"
      ]
     },
     "metadata": {
      "needs_background": "light"
     },
     "output_type": "display_data"
    }
   ],
   "source": [
    "plt.figure(figsize=(9 , 5));\n",
    "plt.plot(df.groupby('MainBranch')['AnnualPay'].mean());\n",
    "plt.ylim(ymin=0,ymax=140000);\n",
    "plt.show();"
   ]
  },
  {
   "cell_type": "code",
   "execution_count": 148,
   "id": "7b4512b6",
   "metadata": {},
   "outputs": [
    {
     "name": "stdout",
     "output_type": "stream",
     "text": [
      "MainBranch\n",
      "HobbyDeveloper          104187.60\n",
      "PartTimeDeveloper       112182.56\n",
      "PastProfDeveloper       104187.60\n",
      "ProfessionalDeveloper   103296.27\n",
      "StudentDeveloper        104187.60\n",
      "Name: AnnualPay, dtype: float64\n"
     ]
    }
   ],
   "source": [
    "print(df.groupby('MainBranch')['AnnualPay'].mean())"
   ]
  },
  {
   "cell_type": "markdown",
   "id": "49c74615",
   "metadata": {},
   "source": [
    "### Observation : There is not much of a pay disparity, however part time developers are being paid on average $8000 more than the professional developers annually\n",
    "\n",
    "### Let's analyze further based on observing Cluster 1..."
   ]
  },
  {
   "cell_type": "code",
   "execution_count": 149,
   "id": "42ec7305",
   "metadata": {},
   "outputs": [],
   "source": [
    "clust1 = df.groupby(['MainBranch','OrgSize']).apply\\\n",
    "    (lambda d: d[d.WorkWeekHrs==\\\n",
    "            d.WorkWeekHrs.max()])[['Age','WorkWeekHrs','JobSatisfaction','AnnualPay',\\\n",
    "                                   'YearsCoded']].reset_index()\n",
    "\n",
    "# We take a dataset \"clust1\" as a subset of df with developers who work the longest (based on cluster 1) within that OrgSize \n",
    "# and we select the columns we are interested in."
   ]
  },
  {
   "cell_type": "markdown",
   "id": "620f9bd0",
   "metadata": {},
   "source": [
    "### <u> Graph of Annual Pay of Part Time and Professional Developers accross various different organisational sizes </u>"
   ]
  },
  {
   "cell_type": "code",
   "execution_count": 150,
   "id": "a65a2a87",
   "metadata": {},
   "outputs": [
    {
     "data": {
      "text/plain": [
       "<seaborn.axisgrid.FacetGrid at 0x7fb7f955bdf0>"
      ]
     },
     "execution_count": 150,
     "metadata": {},
     "output_type": "execute_result"
    },
    {
     "data": {
      "image/png": "[encoded data removed]",
      "text/plain": [
       "<Figure size 867.5x360 with 1 Axes>"
      ]
     },
     "metadata": {
      "needs_background": "light"
     },
     "output_type": "display_data"
    }
   ],
   "source": [
    "sns.catplot(y = 'AnnualPay', x ='OrgSize', data = clust1, kind='bar',hue = 'MainBranch', aspect=2,\\\n",
    "           ci=None, order=['Just me - I am a freelancer, sole proprietor, etc.','2 to 9 employees','10 to 19 employees',\\\n",
    "                           '20 to 99 employees','100 to 499 employees','500 to 999 employees','1,000 to 4,999 employees',\\\n",
    "                           '5,000 to 9,999 employees','10,000 or more employees']).set_xticklabels(rotation=90)"
   ]
  },
  {
   "cell_type": "markdown",
   "id": "fc153781",
   "metadata": {},
   "source": [
    "### Observation : In the plot above, we can see that part time developers are paid higher in most organizational sizes. \n",
    "\n",
    "### Let's analyze further..."
   ]
  },
  {
   "cell_type": "markdown",
   "id": "683943f9",
   "metadata": {},
   "source": [
    "### <u> Graph of WorkWeekHrs of Part Time and Professional Developers accross various different organisational sizes </u>"
   ]
  },
  {
   "cell_type": "code",
   "execution_count": 151,
   "id": "d0a25faf",
   "metadata": {
    "scrolled": false
   },
   "outputs": [
    {
     "data": {
      "text/plain": [
       "<seaborn.axisgrid.FacetGrid at 0x7fb7f91820a0>"
      ]
     },
     "execution_count": 151,
     "metadata": {},
     "output_type": "execute_result"
    },
    {
     "data": {
      "image/png": "[encoded data removed]",
      "text/plain": [
       "<Figure size 867.5x360 with 1 Axes>"
      ]
     },
     "metadata": {
      "needs_background": "light"
     },
     "output_type": "display_data"
    }
   ],
   "source": [
    "sns.catplot(y = 'WorkWeekHrs', x ='OrgSize', data = clust1, kind='bar',hue = 'MainBranch',aspect=2,\\\n",
    "           ci=None, order=['Just me - I am a freelancer, sole proprietor, etc.','2 to 9 employees','10 to 19 employees',\\\n",
    "                           '20 to 99 employees','100 to 499 employees','500 to 999 employees','1,000 to 4,999 employees',\\\n",
    "                           '5,000 to 9,999 employees','10,000 or more employees']).set_xticklabels(rotation=90)"
   ]
  },
  {
   "cell_type": "markdown",
   "id": "a06c24bd",
   "metadata": {},
   "source": [
    "### Observation : In the above plot we can see that professional developers work longer hours accross various organisational sizes  even though they are paid the least. \n",
    "\n",
    "### Now let's see their job satisfaction. "
   ]
  },
  {
   "cell_type": "markdown",
   "id": "511eb61a",
   "metadata": {},
   "source": [
    "### <u> Graph of Job Satisfaction of Part Time and Professional Developers accross various different organisational sizes </u>"
   ]
  },
  {
   "cell_type": "code",
   "execution_count": 152,
   "id": "555bcaae",
   "metadata": {
    "scrolled": false
   },
   "outputs": [
    {
     "data": {
      "text/plain": [
       "<seaborn.axisgrid.FacetGrid at 0x7fb7f7ef1160>"
      ]
     },
     "execution_count": 152,
     "metadata": {},
     "output_type": "execute_result"
    },
    {
     "data": {
      "image/png": "[encoded data removed]",
      "text/plain": [
       "<Figure size 867.5x360 with 1 Axes>"
      ]
     },
     "metadata": {
      "needs_background": "light"
     },
     "output_type": "display_data"
    }
   ],
   "source": [
    "sns.catplot(y = 'JobSatisfaction', x ='OrgSize', data = clust1, kind='bar',hue = 'MainBranch',aspect=2,\\\n",
    "           ci=None, order=['Just me - I am a freelancer, sole proprietor, etc.','2 to 9 employees','10 to 19 employees',\\\n",
    "                           '20 to 99 employees','100 to 499 employees','500 to 999 employees','1,000 to 4,999 employees',\\\n",
    "                           '5,000 to 9,999 employees','10,000 or more employees']).set_xticklabels(rotation=90)"
   ]
  },
  {
   "cell_type": "markdown",
   "id": "6d141434",
   "metadata": {},
   "source": [
    "### Observation : Job Satisfaction for Professional Developers is lower than Part Time Developers. Both type of developers have lower Job Satisfaction levels as the size of the organisation increases.\n",
    "\n",
    "### Let's see the mean values for both to further compare / validate our finding"
   ]
  },
  {
   "cell_type": "code",
   "execution_count": 153,
   "id": "47de4e30",
   "metadata": {},
   "outputs": [
    {
     "data": {
      "text/plain": [
       "0.0"
      ]
     },
     "execution_count": 153,
     "metadata": {},
     "output_type": "execute_result"
    }
   ],
   "source": [
    "clust1[clust1.MainBranch=='PartTimeDeveloper'].JobSatisfaction.mean()"
   ]
  },
  {
   "cell_type": "code",
   "execution_count": 154,
   "id": "8833473d",
   "metadata": {
    "scrolled": true
   },
   "outputs": [
    {
     "data": {
      "text/plain": [
       "-0.35"
      ]
     },
     "execution_count": 154,
     "metadata": {},
     "output_type": "execute_result"
    }
   ],
   "source": [
    "clust1[clust1.MainBranch=='ProfessionalDeveloper'].JobSatisfaction.mean()"
   ]
  },
  {
   "cell_type": "markdown",
   "id": "b17f714b",
   "metadata": {},
   "source": [
    "### Validation based on number of professional developers who want to switch for the same reason"
   ]
  },
  {
   "cell_type": "code",
   "execution_count": 155,
   "id": "21ba7919",
   "metadata": {},
   "outputs": [
    {
     "data": {
      "text/plain": [
       "MainBranch\n",
       "ProfessionalDeveloper   66.63\n",
       "dtype: float64"
      ]
     },
     "execution_count": 155,
     "metadata": {},
     "output_type": "execute_result"
    }
   ],
   "source": [
    "Professional_Developers = df.groupby('MainBranch')['MainBranch'].count().nlargest(1)\n",
    "JobHunt_Compensation = df.groupby('MainBranch')['JobHunt_Better_Compensation'].sum().nlargest(1)\n",
    "ProfDev_BetterComp = (JobHunt_Compensation/Professional_Developers) * 100\n",
    "\n",
    "ProfDev_BetterComp"
   ]
  },
  {
   "cell_type": "markdown",
   "id": "c645402d",
   "metadata": {},
   "source": [
    "### Observation : Professional Developers do have an overall lower Job Satisfaction. About 66% of them are on a Job Hunt for \"Better Compensation\"."
   ]
  },
  {
   "cell_type": "markdown",
   "id": "854dd993",
   "metadata": {},
   "source": [
    "<div class=\"alert alert-block alert-info\">\n",
    "\n",
    "## <u> Managerial Insight 3</u> : Professional developers are paid the least inspite of working for longer hours : So what?\n",
    "\n",
    "#### We understand that the organizations invest a lot more on professional developers (in several other benefits) than any other employee type, however we think that professional developers need to be paid more, to make them more satisfied and give them appropriate renumeration with respect to the amount of hours they work. This will increase their job satisfaction increasing productivity and profitability for the organization. \n",
    "    \n",
    "</div>"
   ]
  },
  {
   "cell_type": "markdown",
   "id": "8412f404",
   "metadata": {},
   "source": [
    "### Project Group 6:\n",
    "Pratik Deshmukh \\\n",
    "Miloni Gada \\\n",
    "Monisha Gopal \\\n",
    "Kirtana Kirtivasan \\\n",
    "Moumi Kumar"
   ]
  }
 ],
 "metadata": {
  "kernelspec": {
   "display_name": "Python 3",
   "language": "python",
   "name": "python3"
  },
  "language_info": {
   "codemirror_mode": {
    "name": "ipython",
    "version": 3
   },
   "file_extension": ".py",
   "mimetype": "text/x-python",
   "name": "python",
   "nbconvert_exporter": "python",
   "pygments_lexer": "ipython3",
   "version": "3.8.8"
  }
 },
 "nbformat": 4,
 "nbformat_minor": 5
}
